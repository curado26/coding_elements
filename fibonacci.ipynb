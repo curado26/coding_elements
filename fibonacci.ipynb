{
 "cells": [
  {
   "cell_type": "markdown",
   "metadata": {},
   "source": [
    "# Fibonnaci Sequence problems\n",
    "\n",
    "In this notebook we will start with a classic class of problems related to dynamic programming and combinatorics. The problem can be seen as a variation of the famous Fibonacci sequence problem.\n",
    "\n",
    "This problem generalizes to a dynamic programming problem where you are given a target n and you want to find the number of ways to achieve this target using a given set of steps.\n",
    "\n",
    "Bellow, we will dive into two that belongs to the same category, starting by a very basic and explicit implementation of Fibonacci numbers."
   ]
  },
  {
   "cell_type": "markdown",
   "metadata": {},
   "source": [
    "# 509. Fibonacci Number\n",
    "\n",
    "The Fibonacci numbers, commonly denoted F(n) form a sequence, called the Fibonacci sequence, such that each number is the sum of the two preceding ones, starting from 0 and 1. That is,\n",
    "\n",
    "F(0) = 0, F(1) = 1\n",
    "F(n) = F(n - 1) + F(n - 2), for n > 1.\n",
    "Given n, calculate F(n)."
   ]
  },
  {
   "cell_type": "code",
   "execution_count": null,
   "metadata": {},
   "outputs": [],
   "source": [
    "class Solution:\n",
    "    def fib(self, n: int) -> int:\n",
    "\n",
    "        # Be carefull of the \"exceptions\" 0 and 1\n",
    "        if n == 0:\n",
    "            return 0\n",
    "        if n == 1:\n",
    "            return 1\n",
    "\n",
    "        # In Fibonacci problems, we always have to initialize F[0] & F[1]...\n",
    "        F = [0] * (n+1)\n",
    "        F[1] = 1\n",
    "\n",
    "        # And then loop recursevely throughout all other numbers > 1\n",
    "        for i in range(2, n+1):\n",
    "            F[i] = F[i-1] + F[i-2]\n",
    "        \n",
    "        # Return result\n",
    "        return F[n]\n",
    "        "
   ]
  },
  {
   "cell_type": "markdown",
   "metadata": {},
   "source": [
    "# 70: Climbing Stairs\n",
    "\n",
    "You are climbing a staircase. It takes n steps to reach the top.\n",
    "\n",
    "Each time you can either climb 1 or 2 steps. In how many distinct ways can you \n",
    "climb to the top?\n",
    "\n",
    "\n",
    "Example 1:\n",
    "\n",
    "Input: n = 2\n",
    "Output: 2\n",
    "Explanation: There are two ways to climb to the top.\n",
    "1. 1 step + 1 step\n",
    "2. 2 steps\n",
    "Example 2:\n",
    "\n",
    "Input: n = 3\n",
    "Output: 3\n",
    "Explanation: There are three ways to climb to the top.\n",
    "1. 1 step + 1 step + 1 step\n",
    "2. 1 step + 2 steps\n",
    "3. 2 steps + 1 step\n",
    "\n",
    "Constrains:\n",
    "* 1 <= n <= 45"
   ]
  },
  {
   "cell_type": "code",
   "execution_count": null,
   "metadata": {},
   "outputs": [],
   "source": [
    "# Recursion (Dynamic Programming)\n",
    "class Solution:\n",
    "    def climbStairs(self, n: int) -> int:\n",
    "        if n == 1:\n",
    "            return 1\n",
    "   \n",
    "\n",
    "        dp = [0]*(n+1)\n",
    "        dp[1] = 1\n",
    "        dp[2] = 2\n",
    "\n",
    "        # f(n) = f(n-1) + f(n-2)\n",
    "        for i in range(3, n + 1):\n",
    "            dp[i] = dp[i - 1] + dp[i - 2]\n",
    "            \n",
    "        return dp[n]\n",
    "\n",
    "\n"
   ]
  },
  {
   "cell_type": "markdown",
   "metadata": {},
   "source": [
    "# 746. Min Cost Climbing Stairs\n",
    "You are given an integer array cost where cost[i] is the cost of ith step on a staircase. Once you pay the cost, you can either climb one or two steps.\n",
    "\n",
    "You can either start from the step with index 0, or the step with index 1.\n",
    "\n",
    "Return the minimum cost to reach the top of the floor.\n",
    "\n",
    "Input: cost = [10,15,20]. Output: 15\n",
    "Explanation: You will start at index 1. - Pay 15 and climb two steps to reach the top. The total cost is 15.\n",
    "\n",
    "Input: cost = [1,100,1,1,1,100,1,1,100,1]\n",
    "Output: 6"
   ]
  },
  {
   "cell_type": "markdown",
   "metadata": {},
   "source": []
  },
  {
   "cell_type": "markdown",
   "metadata": {},
   "source": []
  },
  {
   "cell_type": "markdown",
   "metadata": {},
   "source": []
  },
  {
   "cell_type": "markdown",
   "metadata": {},
   "source": []
  },
  {
   "cell_type": "markdown",
   "metadata": {},
   "source": [
    "#### Solution:\n",
    "\n",
    "Again, this is a Fibonacci problem:\n",
    "\n",
    "Let $F(i)$ be the minimal total cost to achieve step i. Then,\n",
    "\n",
    "$$ F(i) = min{ (F(i-1) + c(i-1)), (F(i-2) + c(i-2)) }$$\n",
    "\n",
    "Also notice that $F(0) = F(1) = 0$ (there is no starting cost)."
   ]
  },
  {
   "cell_type": "code",
   "execution_count": 2,
   "metadata": {},
   "outputs": [
    {
     "data": {
      "text/plain": [
       "6"
      ]
     },
     "execution_count": 2,
     "metadata": {},
     "output_type": "execute_result"
    }
   ],
   "source": [
    "class Solution:\n",
    "    def minCostClimbingStairs(self, cost) -> int:\n",
    "\n",
    "        n = len(cost)\n",
    "    \n",
    "        F = [0] * (n+1)\n",
    "\n",
    "        # F[0] and F[1] = 0\n",
    "        for i in range(2, n+1):\n",
    "            F[i] = min(\n",
    "                F[i-1] + cost[i-1],\n",
    "                F[i-2] + cost[i-2])\n",
    "        return F[n]\n",
    "\n",
    "cost = [1,100,1,1,1,100,1,1,100,1]   #cost = [10,15,20]     \n",
    "\n",
    "Solution().minCostClimbingStairs(cost)"
   ]
  },
  {
   "cell_type": "markdown",
   "metadata": {},
   "source": []
  }
 ],
 "metadata": {
  "kernelspec": {
   "display_name": ".venv",
   "language": "python",
   "name": "python3"
  },
  "language_info": {
   "codemirror_mode": {
    "name": "ipython",
    "version": 3
   },
   "file_extension": ".py",
   "mimetype": "text/x-python",
   "name": "python",
   "nbconvert_exporter": "python",
   "pygments_lexer": "ipython3",
   "version": "3.12.5"
  }
 },
 "nbformat": 4,
 "nbformat_minor": 2
}
