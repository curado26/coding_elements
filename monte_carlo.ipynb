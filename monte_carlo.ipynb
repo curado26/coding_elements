{
 "cells": [
  {
   "cell_type": "code",
   "execution_count": 2,
   "metadata": {},
   "outputs": [],
   "source": [
    "import numpy as np\n",
    "import matplotlib.pyplot as plt"
   ]
  },
  {
   "cell_type": "markdown",
   "metadata": {},
   "source": [
    "# Monte Carlo\n",
    "\n",
    "Monte Carlo simulation rely on repeated random sampling from known or assumed\n",
    "probability distributions. "
   ]
  },
  {
   "cell_type": "markdown",
   "metadata": {},
   "source": [
    "Example\n",
    "\n",
    "We are throwing darts into a square which sizes of lenght 2. The dart will fall\n",
    "in the square, necessarily, but its exactly position is random. There is a circle\n",
    "of radius 1 inside. WHats is the probability that the darts fall inside of the \n",
    "circle?\n",
    "\n",
    "We now that the probability oof throwing in the circle is proportional to the \n",
    "area of the circle ($\\pi/4$). BUt let's solve this using monte carlo.\n",
    "\n",
    "<img src=\"images/monte_carlo_darts.png\" alt=\"Center\" width=\"450\"/>\n",
    "\n"
   ]
  },
  {
   "cell_type": "code",
   "execution_count": 4,
   "metadata": {},
   "outputs": [
    {
     "name": "stdout",
     "output_type": "stream",
     "text": [
      "inside_circle/total: 0.785833\n"
     ]
    }
   ],
   "source": [
    "\n",
    "n = 10**6    # number of simulations\n",
    "inside_circle = 0   # how many darts fell inside the circle (we care about circ/n)\n",
    "\n",
    "for i in range(n):\n",
    "    x = np.random.uniform(-1, 1) # horizontal point\n",
    "    y = np.random.uniform(-1, 1) # vertical point\n",
    "\n",
    "    # Does the point fall inside the circle?\n",
    "\n",
    "    if x**2 + y**2 <=1:\n",
    "        inside_circle += +1\n",
    "\n",
    "print(f\"inside_circle/total: {inside_circle/n}\")"
   ]
  },
  {
   "cell_type": "markdown",
   "metadata": {},
   "source": [
    "# Markov Chains\n",
    "\n",
    "Markov chain is a mathematical model that represents a system that  transitions \n",
    "from one state to another within a finite or countable number of possible states. \n",
    "It is a stochastic process characterized by the **Markov property**, which states \n",
    "that the future state depends only on the current state and not on the sequence \n",
    "of events that preceded it.\n",
    "\n",
    "Formally,\n",
    "\n",
    "$$\n",
    "P(X_{t+1} = x | X_n = x_t, X_{t-1} = x_{t-1}, \\dots, X_0 = x_0) = P(X_{t+1} = x | X_t = x_t)\n",
    "$$\n",
    "\n",
    "* State Space: The set of all possible states.\n",
    "* Initial State Distribution: Probabilities of starting states.\n",
    "* Transition Probabilities: Probabilities of moving from one state to another.\n",
    "* Transition Matrix: A square matrix where each element  $P_{ij}$ represents the transition probability from state $i$ to state  $j$.\n"
   ]
  },
  {
   "cell_type": "markdown",
   "metadata": {},
   "source": [
    "### Example: Web Page Navigation\n",
    "\n",
    "Suppose we’re modeling a user’s navigation between web pages on a website. The \n",
    "pages are:1-Home, 2-About, 3-Products, 4-Contact. The end goal of this exercise \n",
    "is to simulate and analyze the long-term behavior of a user’s navigation patterns \n",
    "to answer questions such as:\n",
    "1. What is the likelihood that a user will visit each page over time?\n",
    "2. How does the user’s navigation evolve over multiple steps?\n",
    "3. What is the expected frequency of visits to each page? Which one is the most\n",
    "popular?\n",
    "4. Does the user tend to get “stuck” on certain pages (absorbing states)?\n",
    "\n",
    "\n",
    "**Transition Matrix**\n",
    "| From \\ To | Home | About | Products | Contact |\n",
    "|-----------|------|-------|----------|---------|\n",
    "| Home      | 0.1  | 0.4   | 0.4      | 0.1     |\n",
    "| About     | 0.2  | 0.1   | 0.6      | 0.1     |\n",
    "| Products  | 0.3  | 0.2   | 0.4      | 0.1     |\n",
    "| Contact   | 0.5  | 0.2   | 0.2      | 0.1     |\n",
    "\n",
    "Moreover, we are assuming that all user starts from the home page (this defines \n",
    "the initial state probabilities). "
   ]
  },
  {
   "cell_type": "code",
   "execution_count": 3,
   "metadata": {},
   "outputs": [],
   "source": [
    "# Setting states and transition matrix\n",
    "\n",
    "states = ['Home', 'About', 'Products', 'Contact']\n",
    "\n",
    "transition_matrix = np.array([\n",
    "    [0.1, 0.4, 0.4, 0.1],  # From Home\n",
    "    [0.2, 0.1, 0.6, 0.1],  # From About\n",
    "    [0.3, 0.2, 0.4, 0.1],  # From Products\n",
    "    [0.5, 0.2, 0.2, 0.1],  # From Contact\n",
    "])"
   ]
  },
  {
   "cell_type": "code",
   "execution_count": 11,
   "metadata": {},
   "outputs": [
    {
     "data": {
      "text/plain": [
       "numpy.ndarray"
      ]
     },
     "execution_count": 11,
     "metadata": {},
     "output_type": "execute_result"
    }
   ],
   "source": [
    "type(transition_matrix)"
   ]
  },
  {
   "cell_type": "code",
   "execution_count": 4,
   "metadata": {},
   "outputs": [
    {
     "data": {
      "text/plain": [
       "array([0.1, 0.4, 0.4, 0.1])"
      ]
     },
     "execution_count": 4,
     "metadata": {},
     "output_type": "execute_result"
    }
   ],
   "source": [
    "initial_state = 0\n",
    "transition_matrix[initial_state]"
   ]
  },
  {
   "cell_type": "code",
   "execution_count": 21,
   "metadata": {},
   "outputs": [],
   "source": [
    "def markov_chain(transition_matrix, states, initial_state=0, num_steps=100):\n",
    "    \"\"\"\"    \n",
    "    Returns:\n",
    "    -------\n",
    "    state_sequence : list\n",
    "        Sequence of states visited during the simulation.\n",
    "    state_indices : list\n",
    "        Sequence of state indices corresponding to the states.\n",
    "    \"\"\"\n",
    "\n",
    "    # Initialization\n",
    "    current_state = initial_state\n",
    "    state_sequence= [states[current_state]]\n",
    "    state_indices = [current_state]\n",
    "\n",
    "    for _ in range(num_steps):\n",
    "        # Get transition probabilities for current state\n",
    "        transition_probs = transition_matrix[current_state] \n",
    "\n",
    "        # Choose the next state based on transition probabilities\n",
    "        next_state = np.random.choice(\n",
    "            range(len(states)),  # Choose the index (integer)\n",
    "            p = transition_probs )\n",
    "        \n",
    "        # Update current state\n",
    "        current_state = next_state\n",
    "\n",
    "        #Record the state\n",
    "        state_sequence.append(states[current_state])\n",
    "        state_indices.append(current_state)\n",
    "\n",
    "    return state_sequence, state_indices"
   ]
  },
  {
   "cell_type": "code",
   "execution_count": 23,
   "metadata": {},
   "outputs": [
    {
     "name": "stdout",
     "output_type": "stream",
     "text": [
      "Sequence of Visited States:\n",
      "Home -> About -> Products -> Products -> Home -> About -> Products -> Products -> Products -> Products -> Home -> Products -> Products -> Home -> About -> Home -> About -> Contact -> Home -> Products -> Home -> About -> Home -> About -> Contact -> About -> Home -> About -> Products -> Products -> Products -> About -> Home -> Products -> About -> Products -> About -> Products -> Home -> Products -> Contact -> Home -> Products -> Home -> Products -> Home -> About -> Contact -> Contact -> Products -> Contact -> Contact -> Products -> About -> Contact -> Home -> Products -> Home -> Home -> Contact -> Products -> Home -> About -> Products -> About -> About -> Products -> Products -> Home -> About -> Home -> Products -> About -> About -> Products -> Products -> Products -> Home -> About -> Products -> Home -> Products -> About -> Home -> Products -> Products -> Home -> Products -> About -> About -> Products -> About -> Home -> Products -> Products -> Home -> About -> Products -> Products -> Products -> About\n"
     ]
    }
   ],
   "source": [
    "\n",
    "state_sequence, state_indices = markov_chain(\n",
    "    transition_matrix, states\n",
    ")\n",
    "\n",
    "# Print the sequence of visited states\n",
    "print(\"Sequence of Visited States:\")\n",
    "print(\" -> \".join(state_sequence))"
   ]
  },
  {
   "cell_type": "code",
   "execution_count": 24,
   "metadata": {},
   "outputs": [
    {
     "name": "stdout",
     "output_type": "stream",
     "text": [
      "\n",
      "Visit Counts:\n",
      "Home        26\n",
      "About       26\n",
      "Products    40\n",
      "Contact      9\n",
      "Name: count, dtype: int64\n",
      "\n",
      "Visit Proportions:\n",
      "Home        0.257426\n",
      "About       0.257426\n",
      "Products    0.396040\n",
      "Contact     0.089109\n",
      "Name: count, dtype: float64\n"
     ]
    }
   ],
   "source": [
    "import pandas as pd\n",
    "\n",
    "# Count the number of visits to each state\n",
    "visit_counts = pd.Series(state_sequence).value_counts().reindex(states).fillna(0)\n",
    "\n",
    "# Calculate the visit proportions\n",
    "visit_proportions = visit_counts / len(state_sequence)\n",
    "\n",
    "# Display the results\n",
    "print(\"\\nVisit Counts:\")\n",
    "print(visit_counts)\n",
    "\n",
    "print(\"\\nVisit Proportions:\")\n",
    "print(visit_proportions)"
   ]
  },
  {
   "cell_type": "markdown",
   "metadata": {},
   "source": []
  }
 ],
 "metadata": {
  "kernelspec": {
   "display_name": ".venv",
   "language": "python",
   "name": "python3"
  },
  "language_info": {
   "codemirror_mode": {
    "name": "ipython",
    "version": 3
   },
   "file_extension": ".py",
   "mimetype": "text/x-python",
   "name": "python",
   "nbconvert_exporter": "python",
   "pygments_lexer": "ipython3",
   "version": "3.12.5"
  }
 },
 "nbformat": 4,
 "nbformat_minor": 2
}
