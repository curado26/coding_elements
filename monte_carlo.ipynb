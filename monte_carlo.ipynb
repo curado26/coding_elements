{
 "cells": [
  {
   "cell_type": "code",
   "execution_count": 1,
   "metadata": {},
   "outputs": [],
   "source": [
    "import numpy as np\n",
    "import pandas as pd\n",
    "import matplotlib.pyplot as plt"
   ]
  },
  {
   "cell_type": "markdown",
   "metadata": {},
   "source": [
    "# Monte Carlo\n",
    "\n",
    "Monte Carlo simulation rely on repeated random sampling from known or assumed\n",
    "probability distributions. They are particularly useful for modelling cases with\n",
    "significant uncertainty in inputs and complex systems where analytical solutions\n",
    "are difficult or impossible to obtain."
   ]
  },
  {
   "cell_type": "markdown",
   "metadata": {},
   "source": [
    "Example\n",
    "\n",
    "We are throwing darts into a square which sizes of lenght 2. The dart will fall\n",
    "in the square, necessarily, but its exactly position is random. There is a circle\n",
    "of radius 1 inside. WHats is the probability that the darts fall inside of the \n",
    "circle?\n",
    "\n",
    "We now that the probability oof throwing in the circle is proportional to the \n",
    "area of the circle ($\\pi/4$). BUt let's solve this using monte carlo.\n",
    "\n",
    "<img src=\"images/monte_carlo_darts.png\" alt=\"Center\" width=\"450\"/>\n",
    "\n"
   ]
  },
  {
   "cell_type": "code",
   "execution_count": 2,
   "metadata": {},
   "outputs": [
    {
     "name": "stdout",
     "output_type": "stream",
     "text": [
      "inside_circle/total: 0.786072\n"
     ]
    }
   ],
   "source": [
    "\n",
    "n = 10**6    # number of simulations\n",
    "inside_circle = 0   # how many darts fell inside the circle (we care about circ/n)\n",
    "\n",
    "for i in range(n):\n",
    "    x = np.random.uniform(-1, 1) # horizontal point\n",
    "    y = np.random.uniform(-1, 1) # vertical point\n",
    "\n",
    "    # Does the point fall inside the circle?\n",
    "\n",
    "    if x**2 + y**2 <=1:\n",
    "        inside_circle += +1\n",
    "\n",
    "print(f\"inside_circle/total: {inside_circle/n}\")"
   ]
  },
  {
   "cell_type": "markdown",
   "metadata": {},
   "source": [
    "# Markov Chains\n",
    "\n",
    "Markov chain is a class of  mathematical models that represents a system that  \n",
    "transitions from one state to another within a finite or countable number of \n",
    "possible states. It is a stochastic process characterized by the \n",
    "**Markov property**, which states that the future state depends only on the \n",
    "current state and not on the sequence of events that preceded it.\n",
    "\n",
    "Formally,\n",
    "\n",
    "$$\n",
    "P(X_{t+1} = x | X_n = x_t, X_{t-1} = x_{t-1}, \\dots, X_0 = x_0) = P(X_{t+1} = x | X_t = x_t)\n",
    "$$\n",
    "\n",
    "* State Space: The set of all possible states.\n",
    "\n",
    "* Initial State Distribution: Probabilities of starting states.\n",
    "\n",
    "* Transition Probabilities: Probabilities of moving from one state to another.\n",
    "\n",
    "* Transition Matrix: A square matrix where each element  $P_{ij}$ represents the \n",
    "transition probability from state $i$ to state  $j$.\n",
    "\n",
    "* Stationary Distribution (steady state):  probability distribution over states that \n",
    "remains unchanged as the system evolves.\n"
   ]
  },
  {
   "cell_type": "markdown",
   "metadata": {},
   "source": []
  },
  {
   "cell_type": "markdown",
   "metadata": {},
   "source": [
    "### Example: Web Page Navigation\n",
    "\n",
    "Suppose we’re modeling a user’s navigation between web pages on a website. The \n",
    "pages are:1-Home, 2-About, 3-Products, 4-Contact. The end goal of this exercise \n",
    "is to simulate and analyze the long-term behavior of a user’s navigation patterns \n",
    "to answer questions such as:\n",
    "1. What is the likelihood that a user will visit each page over time?\n",
    "2. How does the user’s navigation evolve over multiple steps?\n",
    "3. What is the expected frequency of visits to each page? Which one is the most\n",
    "popular?\n",
    "4. Does the user tend to get “stuck” on certain pages (absorbing states)?\n",
    "\n",
    "\n",
    "**Transition Matrix**\n",
    "| From \\ To | Home | About | Products | Contact |\n",
    "|-----------|------|-------|----------|---------|\n",
    "| Home      | 0.1  | 0.4   | 0.4      | 0.1     |\n",
    "| About     | 0.2  | 0.1   | 0.6      | 0.1     |\n",
    "| Products  | 0.3  | 0.2   | 0.4      | 0.1     |\n",
    "| Contact   | 0.5  | 0.2   | 0.2      | 0.1     |\n",
    "\n",
    "Moreover, we are assuming that all user starts from the home page (this defines \n",
    "the initial state probabilities). "
   ]
  },
  {
   "cell_type": "code",
   "execution_count": 3,
   "metadata": {},
   "outputs": [],
   "source": [
    "# Setting states and transition matrix\n",
    "\n",
    "states = ['Home', 'About', 'Products', 'Contact']\n",
    "\n",
    "transition_matrix = np.array([\n",
    "    [0.1, 0.4, 0.4, 0.1],  # From Home\n",
    "    [0.2, 0.1, 0.6, 0.1],  # From About\n",
    "    [0.3, 0.2, 0.4, 0.1],  # From Products\n",
    "    [0.5, 0.2, 0.2, 0.1],  # From Contact\n",
    "])"
   ]
  },
  {
   "cell_type": "code",
   "execution_count": 4,
   "metadata": {},
   "outputs": [],
   "source": [
    "def markov_chain(transition_matrix, states, initial_state=0, num_steps=100):\n",
    "    \"\"\"\"    \n",
    "    Returns:\n",
    "    -------\n",
    "    state_sequence : list\n",
    "        Sequence of states visited during the simulation.\n",
    "    state_indices : list\n",
    "        Sequence of state indices corresponding to the states.\n",
    "    \"\"\"\n",
    "\n",
    "    # Initialization\n",
    "    current_state = initial_state\n",
    "    state_sequence= [states[current_state]]\n",
    "    state_indices = [current_state]\n",
    "\n",
    "    for _ in range(num_steps):\n",
    "        # Get transition probabilities for current state\n",
    "        transition_probs = transition_matrix[current_state] \n",
    "\n",
    "        # Choose the next state based on transition probabilities\n",
    "        next_state = np.random.choice(\n",
    "            range(len(states)),  # Choose the index (integer)\n",
    "            p = transition_probs )\n",
    "        \n",
    "        # Update current state\n",
    "        current_state = next_state\n",
    "\n",
    "        #Record the state\n",
    "        state_sequence.append(states[current_state])\n",
    "        state_indices.append(current_state)\n",
    "\n",
    "    return state_sequence, state_indices"
   ]
  },
  {
   "cell_type": "code",
   "execution_count": 5,
   "metadata": {},
   "outputs": [
    {
     "name": "stdout",
     "output_type": "stream",
     "text": [
      "Sequence of Visited States:\n",
      "Home -> About -> Products -> About -> Products -> Products -> Home -> Products -> Contact -> Products -> About -> Products -> About -> Home -> Products -> Home -> About -> Home -> Products -> Products -> Products -> About -> Home -> About -> Products -> Products -> About -> Products -> Products -> About -> About -> Home -> About -> Products -> Contact -> Contact -> Home -> Contact -> Products -> Products -> Home -> Products -> About -> Products -> Products -> Products -> About -> Products -> Home -> About -> Products -> Products -> Products -> About -> Products -> Products -> Products -> Products -> Products -> Products -> Products -> Home -> Products -> Products -> About -> Products -> Contact -> Products -> Products -> Products -> Products -> Products -> Home -> About -> Products -> Products -> About -> Products -> Home -> Products -> Products -> Products -> Products -> Home -> About -> Products -> Products -> Home -> Products -> Products -> About -> Products -> About -> Products -> Home -> Products -> Products -> Products -> Products -> Contact -> Home\n"
     ]
    }
   ],
   "source": [
    "\n",
    "state_sequence, state_indices = markov_chain(\n",
    "    transition_matrix, states\n",
    ")\n",
    "\n",
    "# Print the sequence of visited states\n",
    "print(\"Sequence of Visited States:\")\n",
    "print(\" -> \".join(state_sequence))"
   ]
  },
  {
   "cell_type": "code",
   "execution_count": 6,
   "metadata": {},
   "outputs": [
    {
     "name": "stdout",
     "output_type": "stream",
     "text": [
      "\n",
      "Visit Counts:\n",
      "Home        17\n",
      "About       21\n",
      "Products    57\n",
      "Contact      6\n",
      "Name: count, dtype: int64\n",
      "\n",
      "Visit Proportions:\n",
      "Home        0.168317\n",
      "About       0.207921\n",
      "Products    0.564356\n",
      "Contact     0.059406\n",
      "Name: count, dtype: float64\n"
     ]
    }
   ],
   "source": [
    "# Count the number of visits to each state\n",
    "visit_counts = pd.Series(state_sequence).value_counts().reindex(states).fillna(0)\n",
    "\n",
    "# Calculate the visit proportions\n",
    "visit_proportions = visit_counts / len(state_sequence)\n",
    "\n",
    "# Display the results\n",
    "print(\"\\nVisit Counts:\")\n",
    "print(visit_counts)\n",
    "\n",
    "print(\"\\nVisit Proportions:\")\n",
    "print(visit_proportions)"
   ]
  },
  {
   "cell_type": "markdown",
   "metadata": {},
   "source": [
    "# MCMC: Markov Chain Monte Carlo\n",
    "\n",
    "\n",
    "MCMC sampling is an algorithm for systematic random sampling from high-dimensional\n",
    "probability distributions. Unlike Monte Carlo sampling methods that are able to \n",
    "draw independent samples from the distriution, MCMC draw samples where the next\n",
    "sample is dependent on the existing sampling (that is, the Markov property holds).\n",
    "\n",
    "* Bottomline: we are adding a Markov properti to a Monte Carlo Sampling. This \n",
    "implies that the samples are not independent: they depend of the last state.\n",
    "\n",
    "Therefore, this algorithm generates a **Markov Chain** that has the desired \n",
    "distributions as its **stationary distribution**. \n",
    "\n",
    "* The goal of MCMC is to generate samples from a complex target distribution  \n",
    "    $P(x)$  by constructing a Markov chain that converges to this distribution.\n",
    "\n",
    "\n",
    "### Algorithm:\n",
    "\n",
    "1. Start with a initial value $x_0$\n",
    "2. for $t = 1,2,...N$:\n",
    "    - Draw candidate $x'$ from a proposed distribution $q$\n",
    "    \n",
    "    - Calculate the acceptance ratio $r$ and acceptance probability $A$. If\n",
    "the distribution is normal:\n",
    "             $$ r(x', x) = \\frac{P(x')}{P(x)} $$\n",
    "             $$ \\alpha = \\min(1, r )$$\n",
    "    - Accept or reject $x'$    "
   ]
  },
  {
   "cell_type": "code",
   "execution_count": null,
   "metadata": {},
   "outputs": [],
   "source": []
  },
  {
   "cell_type": "code",
   "execution_count": 7,
   "metadata": {},
   "outputs": [],
   "source": [
    "from scipy.stats import norm\n",
    "\n",
    "def metropolis_hastings(taget_density, proposal_sampler, \n",
    "                        initial_state=0, num_samples=10000):\n",
    "    \"\"\"\n",
    "    Metropolis-Hastings algorithm for sampling from a target distribution.\n",
    "    \n",
    "    Parameters:\n",
    "    ----------\n",
    "    target_density : function\n",
    "        The target probability density function P(x) we want to sample from.\n",
    "    proposal_sampler : function\n",
    "        Function to sample a candidate point given the current state.\n",
    "    initial_state : float\n",
    "        Starting point of the Markov chain.\n",
    "    num_samples : int\n",
    "        Number of samples to generate.\n",
    "    \n",
    "    Returns:\n",
    "    -------\n",
    "    samples : numpy.ndarray\n",
    "        Generated samples from the target distribution.\n",
    "\n",
    "    \"\"\"\n",
    "    samples = []\n",
    "    current_state = initial_state\n",
    "\n",
    "    for _ in range(num_samples):\n",
    "        # Sample from the proposal distribution (normal distribution centered \n",
    "        # at current state)\n",
    "        proposed_state = proposal_sampler(current_state)\n",
    "        \n",
    "        # Calculate the acceptance probability\n",
    "        acceptance_ratio = target_density(proposed_state)/\\\n",
    "                           target_density(current_state)\n",
    "        \n",
    "        acceptance_prob = min(1, acceptance_ratio)\n",
    "\n",
    "        # Accept or reject x'\n",
    "        if np.random.uniform(0,1) < acceptance_prob:\n",
    "            current_state = proposed_state\n",
    "        \n",
    "    \n",
    "        samples.append(current_state)\n",
    "\n",
    "    return  samples\n",
    "\n",
    "# Define the target density function (standard normal distribution)\n",
    "def target_density(x):\n",
    "    return norm.pdf(x, loc=0, scale=1)\n",
    "\n",
    "# Define the proposal sampler (normal distribution centered at current state)\n",
    "def proposal_sampler(x_current):\n",
    "    return np.random.normal(loc=x_current, scale=1)\n",
    "\n",
    "\n",
    "\n",
    "\n",
    "\n",
    "    "
   ]
  },
  {
   "cell_type": "code",
   "execution_count": 8,
   "metadata": {},
   "outputs": [
    {
     "data": {
      "image/png": "[encoded data removed]",
      "text/plain": [
       "<Figure size 640x480 with 1 Axes>"
      ]
     },
     "metadata": {},
     "output_type": "display_data"
    }
   ],
   "source": [
    "samples = metropolis_hastings(target_density,proposal_sampler)\n",
    "\n",
    "# Plot the histogram of samples\n",
    "plt.hist(samples, bins=50, density=True, alpha=0.6, label='Sampled Distribution')\n",
    "\n",
    "# Plot the target distribution\n",
    "x = np.linspace(-4, 4, 1000)\n",
    "plt.plot(x, norm.pdf(x), 'r', label='Target Distribution')\n",
    "\n",
    "plt.title(\"Metropolis-Hastings Sampling\")\n",
    "plt.xlabel(\"x\")\n",
    "plt.ylabel(\"Density\")\n",
    "plt.legend()\n",
    "plt.show()\n"
   ]
  }
 ],
 "metadata": {
  "kernelspec": {
   "display_name": ".venv",
   "language": "python",
   "name": "python3"
  },
  "language_info": {
   "codemirror_mode": {
    "name": "ipython",
    "version": 3
   },
   "file_extension": ".py",
   "mimetype": "text/x-python",
   "name": "python",
   "nbconvert_exporter": "python",
   "pygments_lexer": "ipython3",
   "version": "3.12.5"
  }
 },
 "nbformat": 4,
 "nbformat_minor": 2
}
