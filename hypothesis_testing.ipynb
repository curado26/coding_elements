{
 "cells": [
  {
   "cell_type": "code",
   "execution_count": 13,
   "metadata": {},
   "outputs": [],
   "source": [
    "import numpy as np"
   ]
  },
  {
   "cell_type": "markdown",
   "metadata": {},
   "source": [
    "# One-Sample T-Test\n",
    "The one-sample t-test tests wether the mean of a sample differs significantly \n",
    "from a known or hypothesized population mean. It assumes the data is normally \n",
    "distributed.\n",
    "\n",
    "* $H_0$ is that the sample mean $\\bar{x}$ is equal to the population mean $\\mu$.\n",
    "* $H_1$:   $\\bar{x} \\neq \\mu$\n",
    "\n",
    "Test statistic:\n",
    "\n",
    "$$ t = \\frac{\\bar{x}-\\mu}{s/\\sqrt{n} }$$"
   ]
  },
  {
   "cell_type": "code",
   "execution_count": 26,
   "metadata": {},
   "outputs": [],
   "source": [
    "from scipy import stats \n",
    "class TTest:\n",
    "\n",
    "    def __init__(self):\n",
    "        self.t_stat = None\n",
    "        self.p_value = None\n",
    "    \n",
    "    def one_sample_t_test(self, sample: list, mu: float) -> float:\n",
    "        \"\"\"\n",
    "        Perform a one-sample t-test to check if the sample mean is significantly\n",
    "        different from the population mean\n",
    "\n",
    "        Parameters:\n",
    "            sample: array-like. \n",
    "                The sample data.\n",
    "            mu: float.\n",
    "                The population mean, \n",
    "\n",
    "        Returns:\n",
    "            t-stat: float.\n",
    "                The estimated t-statistic\n",
    "            p-value: float.\n",
    "                The estimated p-value for the t-test. This is the probability of \n",
    "                obtaining test results *at least as extreme* as the observed in\n",
    "                the data\n",
    "        \"\"\"\n",
    "\n",
    "        # GUarantee that sample is a numpy array\n",
    "        X = np.array(sample)\n",
    "\n",
    "        # Sample size n and degrees of freedom df\n",
    "        n = len(X)\n",
    "        df = n-1\n",
    "        \n",
    "        # Compute sample statistics \n",
    "        X_bar = sum(X)/n                  #Sample mean\n",
    "        X_std = (sum( (X-X_bar)**2 )/(n-1))**0.5 # Sample standard deviation\n",
    "\n",
    "        # t-statistic\n",
    "        self.t_stat = (X_bar - mu)/(X_std/(n**0.5))\n",
    "        \n",
    "        # Two-Tailed P-Value \n",
    "        self.p_value = 2 * (1 - stats.t.cdf( abs(self.t_stat, df))   )\n",
    "\n",
    "        return self.t_stat, self.p_value\n"
   ]
  },
  {
   "cell_type": "code",
   "execution_count": 27,
   "metadata": {},
   "outputs": [
    {
     "name": "stdout",
     "output_type": "stream",
     "text": [
      "T-Statistic: -0.2487080016869026\n",
      "P-Value: 1.188119086490217\n"
     ]
    }
   ],
   "source": [
    "sample = [2.5, 3.0, 2.8, 3.5, 3.1, 2.9, 3.0]\n",
    "ttest = TTest()\n",
    "t_stat, p_val = ttest.one_sample_t_test(sample, mu=3.0)\n",
    "print(\"T-Statistic:\", t_stat)\n",
    "print(\"P-Value:\", p_val)"
   ]
  },
  {
   "cell_type": "markdown",
   "metadata": {},
   "source": [
    "# Two-Sample T-Test (t-test for independent samples)\n",
    "The two-sample t-test compares the means of two independent samples to determine \n",
    "if they come from populations with the same mean. It assumes that both samples \n",
    "are normally distributed and have equal variances.\n",
    "\n",
    "\n",
    "* $H_0$:  The means of the two samples are equal ($\\bar{x_1} = \\bar{x_2}$)\n",
    "* $H_1$:  ($\\bar{x_1} = \\bar{x_2}$)$\n",
    "\n",
    "Test statistic:\n",
    "\n",
    "$$ t = \\frac{\\bar{x_1}-\\bar{x_2}}{  \\sqrt{ \\frac{s_1^2}{n_1} + \\frac{s_2^2}{n_2} }  }$$"
   ]
  },
  {
   "cell_type": "code",
   "execution_count": 45,
   "metadata": {},
   "outputs": [],
   "source": [
    "from scipy import stats \n",
    "class TTest:\n",
    "\n",
    "    \n",
    "    def two_sample_t_test(self, sample_1: list, sample_2: list) -> float:\n",
    "        \"\"\"\n",
    "        Perform a two-sample t-test to check if the sample mean is significantly\n",
    "        different from the population mean.\n",
    "        Assumption: both samples have the same variance.\n",
    "\n",
    "        Parameters:\n",
    "            sample_1: array-like. \n",
    "                The first sample data.\n",
    "            sample_2: array-like. \n",
    "                The second sample data.\n",
    "            mu: float.\n",
    "                The population mean, \n",
    "\n",
    "        Returns:\n",
    "            t-stat: float.\n",
    "                The estimated t-statistic\n",
    "            p-value: float.\n",
    "                The estimated p-value for the t-test. This is the probability of \n",
    "                obtaining test results *at least as extreme* as the observed in\n",
    "                the data\n",
    "        \"\"\"\n",
    "\n",
    "        # GUarantee that sample is a numpy array\n",
    "        X1= np.array(sample_1)\n",
    "        X2= np.array(sample_2)\n",
    "\n",
    "        # Sample size n and degrees of freedom df\n",
    "        n1, n2 = len(X1), len(X2)\n",
    "        df = n1 + n2 -2\n",
    "        \n",
    "        # Compute sample statistics \n",
    "        X_bar1 = sum(X1)/n1                  #Sample mean\n",
    "        X_bar2 = sum(X2)/n2                  #Sample mean\n",
    "\n",
    "        X_std1 = (sum( (X1-X_bar1)**2 )/(n1-1))*0.5 # Sample standard deviation\n",
    "        X_std2 = (sum( (X2-X_bar2)**2 )/(n2-1))*0.5 # Sample standard deviation\n",
    "\n",
    "        # t-statistic\n",
    "        denominator = ( X_std1**2/n1 + X_std2**2/n2 )**0.5\n",
    "        self.t_stat = (X_bar1 - X_bar2)/denominator\n",
    "        # p-value\n",
    "        self.p_value = 2 * (1 - stats.t.cdf( abs(self.t_stat), df)   )\n",
    "\n",
    "        return self.t_stat, self.p_value\n"
   ]
  },
  {
   "cell_type": "code",
   "execution_count": 46,
   "metadata": {},
   "outputs": [
    {
     "name": "stdout",
     "output_type": "stream",
     "text": [
      "T-Statistic: 4.869896747011, P-Value: 0.0012401343566106338\n"
     ]
    }
   ],
   "source": [
    "# Example data\n",
    "sample1 = [75, 78, 74, 72, 77]\n",
    "sample2 = [68, 65, 70, 67, 69]\n",
    "\n",
    "# Perform the t-test\n",
    "ttest = TTest()\n",
    "t_stat, p_val = ttest.two_sample_t_test(sample1, sample2)\n",
    "print(f\"T-Statistic: {t_stat}, P-Value: {p_val}\")"
   ]
  },
  {
   "cell_type": "markdown",
   "metadata": {},
   "source": [
    "# Anova (Analysis of Variance)"
   ]
  },
  {
   "cell_type": "code",
   "execution_count": null,
   "metadata": {},
   "outputs": [],
   "source": []
  },
  {
   "cell_type": "markdown",
   "metadata": {},
   "source": [
    "# Chi-Squared Test for Independence\n",
    "\n"
   ]
  },
  {
   "cell_type": "code",
   "execution_count": null,
   "metadata": {},
   "outputs": [],
   "source": []
  }
 ],
 "metadata": {
  "kernelspec": {
   "display_name": ".venv",
   "language": "python",
   "name": "python3"
  },
  "language_info": {
   "codemirror_mode": {
    "name": "ipython",
    "version": 3
   },
   "file_extension": ".py",
   "mimetype": "text/x-python",
   "name": "python",
   "nbconvert_exporter": "python",
   "pygments_lexer": "ipython3",
   "version": "3.12.5"
  }
 },
 "nbformat": 4,
 "nbformat_minor": 2
}
