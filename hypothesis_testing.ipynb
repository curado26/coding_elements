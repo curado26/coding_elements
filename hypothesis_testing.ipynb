{
 "cells": [
  {
   "cell_type": "code",
   "execution_count": 13,
   "metadata": {},
   "outputs": [],
   "source": [
    "import numpy as np"
   ]
  },
  {
   "cell_type": "markdown",
   "metadata": {},
   "source": [
    "# One-Sample T-Test\n",
    "The one-sample t-test tests wether the mean of a sample differs significantly \n",
    "from a known or hypothesized population mean. It assumes the data is normally \n",
    "distributed.\n",
    "\n",
    "* $H_0$ is that the sample mean $\\bar{x}$ is equal to the population mean $\\mu$.\n",
    "* $H_1$:   $\\bar{x} \\neq \\mu$\n",
    "\n",
    "Test statistic:\n",
    "\n",
    "$$ t = \\frac{\\bar{x}-\\mu}{s/\\sqrt{n} }$$"
   ]
  },
  {
   "cell_type": "code",
   "execution_count": 17,
   "metadata": {},
   "outputs": [],
   "source": [
    "from scipy import stats \n",
    "class TTest:\n",
    "\n",
    "    def __init__(self):\n",
    "        self.t_stat = None\n",
    "        self.p_value = None\n",
    "    \n",
    "    def one_sample_t_test(self, X: np.array, mu: float) -> float:\n",
    "        \"\"\"\n",
    "        Perform a one-sample t-test to check if the sample mean is significantly\n",
    "        different from the population mean\n",
    "\n",
    "        Parameters:\n",
    "            X:  array-like. \n",
    "                The sample data.\n",
    "            mu: float.\n",
    "                The population mean, \n",
    "\n",
    "        Returns:\n",
    "            ?\n",
    "        \"\"\"\n",
    "\n",
    "        # Sample size n and degrees of freedom df\n",
    "        n = len(X)\n",
    "        df = n-1\n",
    "        \n",
    "        # Sample mean\n",
    "        X_bar = sum(X)/n\n",
    "\n",
    "        # Sample standard deviation\n",
    "        X_std = sum( (X-X_bar)**2 )/(n-1)\n",
    "\n",
    "        # t-statistic\n",
    "        self.t_stat = (X_bar - mu)/(X_std/(n**(1/2))).round(3)\n",
    "        # p-value\n",
    "        self.p_value = 2 * (1 - stats.t.cdf( self.t_stat, df)   ).round(3)\n",
    "\n",
    "        return self.t_stat, self.p_value\n",
    "\n",
    "\n"
   ]
  },
  {
   "cell_type": "code",
   "execution_count": 18,
   "metadata": {},
   "outputs": [
    {
     "name": "stdout",
     "output_type": "stream",
     "text": [
      "T-Statistic: -0.8163265306122419\n",
      "P-Value: 1.554\n"
     ]
    }
   ],
   "source": [
    "sample = [2.5, 3.0, 2.8, 3.5, 3.1, 2.9, 3.0]\n",
    "sample = np.array(sample)\n",
    "ttest = TTest()\n",
    "t_stat, p_val = ttest.one_sample_t_test(sample, mu=3.0)\n",
    "print(\"T-Statistic:\", t_stat)\n",
    "print(\"P-Value:\", p_val)"
   ]
  },
  {
   "cell_type": "markdown",
   "metadata": {},
   "source": [
    "# Two-Sample T-Test"
   ]
  },
  {
   "cell_type": "code",
   "execution_count": null,
   "metadata": {},
   "outputs": [],
   "source": []
  },
  {
   "cell_type": "markdown",
   "metadata": {},
   "source": [
    "# Chi-Squared Test for Independence\n",
    "\n"
   ]
  },
  {
   "cell_type": "markdown",
   "metadata": {},
   "source": [
    "# Anova (Analysis of Variance)"
   ]
  },
  {
   "cell_type": "markdown",
   "metadata": {},
   "source": [
    "# Class for statistics\n",
    "Implement a class for p-value calculation with functions to compute  t-statistics and z-scores for different scenarios."
   ]
  }
 ],
 "metadata": {
  "kernelspec": {
   "display_name": ".venv",
   "language": "python",
   "name": "python3"
  },
  "language_info": {
   "codemirror_mode": {
    "name": "ipython",
    "version": 3
   },
   "file_extension": ".py",
   "mimetype": "text/x-python",
   "name": "python",
   "nbconvert_exporter": "python",
   "pygments_lexer": "ipython3",
   "version": "3.12.5"
  }
 },
 "nbformat": 4,
 "nbformat_minor": 2
}
