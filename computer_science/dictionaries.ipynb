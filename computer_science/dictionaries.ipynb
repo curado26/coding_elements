{
 "cells": [
  {
   "cell_type": "markdown",
   "metadata": {},
   "source": [
    "# Dictionaries\n",
    "\n",
    "A dictionary in Python is a built-in data structure that stores data as \n",
    "key-value pairs. Key concepts:\n",
    "\n",
    "1.\tKey-Value Pairs:\n",
    "\t* Each element in a dictionary is stored as a pair consisting of a unique \n",
    "\tkey and an associated value.\n",
    "\t* Example: {\"apple\": 3, \"banana\": 5} — Here, \"apple\" and \"banana\" are keys, \n",
    "\tand 3 and 5 are their corresponding values.\n",
    "\n",
    "2.\tKeys:\n",
    "\t* Must be unique and immutable (e.g., strings, numbers, or tuples).\n",
    "\t* Used to access the corresponding value efficiently.\n",
    "\t* In the two-sum problem, keys represent numbers encountered in the list (nums).\n",
    "\n",
    "3.\tValues:\n",
    "\t* Can be of any data type and are associated with keys.\n",
    "\t* In the two-sum problem, values represent indices of the numbers in the list.\n",
    "\n",
    "4.\tInitialization and Access:\n",
    "\t* A dictionary is created using curly braces {}.\n",
    "\t* You can add or access elements using square brackets [].\n",
    "\t* Example: map = {} initializes an empty dictionary. map[2] = 0 adds a key 2\n",
    "\t with value 0.\n",
    "\n",
    "5.\tLookup:\n",
    "\t* if key in dictionary: checks if a key is present in the dictionary.\n",
    "    To check if a value exists in a dictionary in Python, we have to use \"x in \n",
    "\tmap.values()\"\n"
   ]
  },
  {
   "cell_type": "markdown",
   "metadata": {},
   "source": [
    "# LEET CODE 1. Two Sum\n",
    "\n",
    "Given an array of integers nums and an integer target, return indices of the two numbers such that they add up to target.\n",
    "\n",
    "You may assume that each input would have exactly one solution, and you may not use the same element twice.\n",
    "\n",
    "You can return the answer in any order.\n",
    "Example 1:\n",
    "\n",
    "Input: nums = [2,7,11,15], target = 9\n",
    "Output: [0,1]\n",
    "Explanation: Because nums[0] + nums[1] == 9, we return [0, 1]."
   ]
  },
  {
   "cell_type": "code",
   "execution_count": null,
   "metadata": {},
   "outputs": [],
   "source": [
    "nums = [2,4, 7,11,15]\n",
    "target = 9"
   ]
  },
  {
   "cell_type": "markdown",
   "metadata": {},
   "source": [
    "### Brute Force Solution"
   ]
  },
  {
   "cell_type": "code",
   "execution_count": null,
   "metadata": {},
   "outputs": [
    {
     "name": "stdout",
     "output_type": "stream",
     "text": [
      "[0, 1]\n"
     ]
    }
   ],
   "source": [
    "def twoSum(nums, target):\n",
    "\n",
    "    for i in range(0,len(nums)):\n",
    "        for j in range(i+1, len(nums)):\n",
    "\n",
    "            y = nums[i] + nums[j]\n",
    "\n",
    "            if y == target:\n",
    "                result = [i,j]\n",
    "                return result\n",
    "\n",
    "result = twoSum(nums, target)\n",
    "print(result)"
   ]
  },
  {
   "cell_type": "markdown",
   "metadata": {},
   "source": [
    "# Hashmap\n",
    "\n",
    "A HashMap is a data structure that provides an efficient way to store and retrieve **key-value pairs**.\n",
    "\n",
    "1.\tEfficiency:\n",
    "\t•\tHashMaps offer efficient data storage and retrieval, which is critical in many data science tasks like counting frequencies, aggregating data, and performing quick lookups.\n",
    "2.\tCommon Interview Problems:\n",
    "\t•\tMany coding interview questions in data science can be solved more efficiently with HashMaps. Examples include:\n",
    "\t•\tCounting occurrences (e.g., word count).\n",
    "\t•\tFinding duplicates.\n",
    "\t•\tTwo-sum problem (checking if two numbers add up to a target).\n",
    "\t•\tGrouping and aggregating data based on keys."
   ]
  },
  {
   "cell_type": "code",
   "execution_count": null,
   "metadata": {},
   "outputs": [
    {
     "data": {
      "text/plain": [
       "(0, 2)"
      ]
     },
     "metadata": {},
     "output_type": "display_data"
    }
   ],
   "source": [
    "def twoSum_hashmap(nums, target):\n",
    "\n",
    "    \"\"\"\n",
    "    Find two numbers in nums that add up to the target.\n",
    "    \n",
    "    Parameters:\n",
    "        nums: array-like of integers\n",
    "            Array of integers to look for numbers that add up to target\n",
    "        target: integer\n",
    "            Target value.\n",
    "    \n",
    "    Return:\n",
    "        tuple of (int, int)\n",
    "            indexes of the two elements in nums that add up to the target.\n",
    "            If no such pair exists, returns an empty list.\n",
    "    \"\"\"\n",
    "    \n",
    "    num_map = {} # Initialize and empty Dictionary\n",
    "    \n",
    "    # Iterate through each element in the nums list\n",
    "    for i in range(len(nums)):\n",
    "\n",
    "        complement = target - nums[i] # the value we need to find in the list\n",
    "\n",
    "        # checks if the value of complement exists as a key in the dictionary num_map.\n",
    "        if complement in num_map:\n",
    "            return (   num_map[complement], i  )\n",
    "        \n",
    "        # Update the num_map dictionary, adding the current number (nums[i]) as the\n",
    "        # key and index (i) as the value\n",
    "        num_map[nums[i]] = i \n",
    "\n",
    "    return [] \n",
    "\n",
    "twoSum_hashmap(nums, target)"
   ]
  },
  {
   "cell_type": "markdown",
   "metadata": {},
   "source": [
    "### 349. Intersection of Two Arrays\n",
    "Given two integer arrays nums1 and nums2, return an array of their  intersection. \n",
    "Each element in the result must be unique and you may return the result in any order.\n",
    "\n",
    "\n",
    "Examples\n",
    "\n",
    "Input: nums1 = [1,2,2,1], nums2 = [2,2].      |Output: [2]\n",
    "\n",
    "Input: nums1 = [4,9,5], nums2 = [9,4,9,8,4]  | Output: [9,4]"
   ]
  },
  {
   "cell_type": "code",
   "execution_count": null,
   "metadata": {},
   "outputs": [],
   "source": [
    "nums1 = [4,9,5, 9]\n",
    "nums2 = [9,4,9,8,4]\n",
    "\n",
    "class Solutions:\n",
    "    def intersection(self,nums1, nums2):\n",
    "        \"\"\"\n",
    "        Find the intersection of two integer arrays and return the result as a list.\n",
    "        Each element in the result must be unique.\n",
    "        Complexity:\n",
    "            - Time: O(n+m)\n",
    "            - Space O(n)\n",
    "        \"\"\"\n",
    "        # Initialize \n",
    "        is_available = {} # Dictionary to record elements from nums1 \n",
    "        result = []     # List to store the unique intersection elements\n",
    "        \n",
    "        # record each element from nums1 in the dictionary ...\n",
    "        for x in nums1:\n",
    "            is_available[x] = 1   # mark value as available\n",
    "\n",
    "        # Iterate over nums2 to find common elements \n",
    "        for x in nums2:\n",
    "\n",
    "            # If element in nums 2 as is available:\n",
    "            if x in is_available and is_available[x] == 1:\n",
    "                result.append(x)        # Add to results\n",
    "                is_available[x] = 0     # Mark as unaveilable\n",
    "\n",
    "        return result\n",
    "    # Aditional explanation. in a Python dictionary, the keys are always unique. \n",
    "    # Each key in a dictionary maps to a single value. If you attempt to assign \n",
    "    # a value to an existing key, the old value associated with that key will be\n",
    "    #  overwritten by the new value. Therefore, each value in nums1 will appear \n",
    "    # only once is is_avaliable. That will guarantee uniqueness of the results\n",
    "\n",
    "    # Alternativelly, we could've used built in set in Python\n",
    "\n",
    "    def intersection_set(self, nums1, nums2):\n",
    "\n",
    "        set1 = set(nums1)\n",
    "        set2 = set(nums2)\n",
    "        return set1 & set2   \n",
    "\n"
   ]
  },
  {
   "cell_type": "markdown",
   "metadata": {},
   "source": [
    "### 350:  Intersection of Two Arrays II\n",
    "\n",
    "Given two integer arrays nums1 and nums2, return an array of their intersection. \n",
    "Each element in the result must appear as many times as it shows in both arrays \n",
    "and you may return the result in any order.\n",
    "\n",
    "Example 1:\n",
    "\n",
    "Input: nums1 = [1,2,2,1], nums2 = [2,2]\n",
    "Output: [2,2]\n",
    "Example 2:\n",
    "\n",
    "Input: nums1 = [4,9,5], nums2 = [9,4,9,8,4]\n",
    "Output: [4,9]\n",
    "Explanation: [9,4] is also accepted."
   ]
  },
  {
   "cell_type": "code",
   "execution_count": null,
   "metadata": {},
   "outputs": [
    {
     "name": "stdout",
     "output_type": "stream",
     "text": [
      "{4: 1, 9: 2, 5: 1, 10: 1}\n"
     ]
    },
    {
     "data": {
      "text/plain": [
       "[9, 4, 9, 10]"
      ]
     },
     "metadata": {},
     "output_type": "display_data"
    }
   ],
   "source": [
    "# The solution is very similar to the previous exercise\n",
    "def return_intersection(nums1, nums2):\n",
    "    \"\"\"\n",
    "\tFind the intersection of arrays nums1 and nums2. Each element in the result \n",
    "    appear as many times as it shows in both array, in any  order. \t\n",
    "\tParameters:\n",
    "\t\tnums1, nums2: array-like\n",
    "\t\t\t\tOriginal arrays to find the intersection\n",
    "\t\n",
    "\tReturn:\n",
    "\t\tresult: array-like\n",
    "            Array with the elements that appear on both nums1 and nums2. \n",
    "    \"\"\"\n",
    "\n",
    "    # Initialize\n",
    "\n",
    "    count_map = {}  # Dictionary containing the values of nums1 \n",
    "    results = [] \t\t  # Array with intersection\n",
    "   \n",
    "    # Fill dictionary\n",
    "\n",
    "    for i in nums1:\n",
    "        if i in count_map:\n",
    "            count_map[i] = count_map[i] + 1\n",
    "        else:\n",
    "            count_map[i] = 1\n",
    "\n",
    "    # Check if every number in nums2 is in nums1 \n",
    "    for j in nums2:\n",
    "        if j in count_map and count_map[j] != 0:\n",
    "            results.append(j)\n",
    "            count_map[j] = count_map[j] - 1\n",
    "    \n",
    "    return results\n",
    "\n",
    "nums1 = [4,9,5,9, 10]\n",
    "nums2 = [9,4,9,8,4,10]         \n",
    "return_intersection(nums1, nums2)"
   ]
  },
  {
   "cell_type": "markdown",
   "metadata": {},
   "source": [
    "Note: The .get() method is a built-in function that allows you to retrieve the \n",
    "value for a given key from a dictionary. It provides a safe way to access \n",
    "dictionary values, offering a default value if the key does not exist, which \n",
    "helps prevent common errors in your code.\n",
    "\n",
    "Syntax:\n",
    "\n",
    "`value = my_dict.get(key, default_value)`\n",
    "\n",
    "* key: the key you want to look up in the dictionary\n",
    "* default_value (optional): the value to return if the key is not found (None is\n",
    "the default)"
   ]
  },
  {
   "cell_type": "code",
   "execution_count": null,
   "metadata": {},
   "outputs": [],
   "source": [
    "#Code version using .get\n",
    "def return_intersection(nums1, nums2):\n",
    "    \"\"\"\n",
    "\tFind the intersection of arrays nums1 and nums2. Each element in the result\n",
    "    appears as many times as it shows in both arrays, in any order. \n",
    "\t\n",
    "\tParameters:\n",
    "\t\tnums1, nums2: array-like\n",
    "\t\t\tOriginal arrays to find the intersection.\n",
    "\t\n",
    "\tReturns:\n",
    "\t\tresult: array-like\n",
    "            Array with the elements that appear in both nums1 and nums2. \n",
    "    \"\"\"\n",
    "\n",
    "    # Dictionary to store the count of each element in nums1\n",
    "    count_map = {}  \n",
    "    results = []  # Array to store the intersection results\n",
    "\n",
    "    # Fill dictionary with counts from nums1\n",
    "    # get(i, 0): This automatically checks if the element exists in count_map, \n",
    "    # and if not, it returns 0. This simplifies the dictionary update logic.\n",
    "    for i in nums1:\n",
    "        count_map[i] = count_map.get(i, 0) + 1\n",
    "\n",
    "    # Check if elements in nums2 are in nums1\n",
    "    for j in nums2:\n",
    "        if count_map.get(j, 0) > 0:\n",
    "            results.append(j)\n",
    "            count_map[j] -= 1  # Decrease the count once used\n",
    "\n",
    "    return results\n",
    "\n",
    "# Example usage\n",
    "nums1 = [4, 9, 5, 9, 10]\n",
    "nums2 = [9, 4, 9, 8, 4, 10]\n",
    "print(return_intersection(nums1, nums2))"
   ]
  }
 ],
 "metadata": {
  "language_info": {
   "name": "python"
  }
 },
 "nbformat": 4,
 "nbformat_minor": 2
}
