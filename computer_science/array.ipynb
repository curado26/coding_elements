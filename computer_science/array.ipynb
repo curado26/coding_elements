{
 "cells": [
  {
   "cell_type": "markdown",
   "metadata": {},
   "source": [
    "# 88. Merge Sorted Array\n",
    "\n",
    "You are given two integer arrays nums1 and nums2, sorted in non-decreasing order, \n",
    "and two integers m and n, representing the number of elements in nums1 and nums2 \n",
    "respectively.\n",
    "\n",
    "Merge nums1 and nums2 into a single array sorted in non-decreasing order.\n",
    "\n",
    "The final sorted array should not be returned by the function, but instead be \n",
    "stored inside the array nums1. To accommodate this, nums1 has a length of m + n, \n",
    "where the first m elements denote the elements that should be merged, and the l\n",
    "ast n elements are set to 0 and should be ignored. nums2 has a length of n.\n",
    "\n",
    "Example 1:\n",
    "\n",
    "Input: nums1 = [1,2,3,0,0,0], m = 3, nums2 = [2,5,6], n = 3\n",
    "Output: [1,2,2,3,5,6]\n",
    "Explanation: The arrays we are merging are [1,2,3] and [2,5,6].\n",
    "The result of the merge is [1,2,2,3,5,6] with the underlined elements coming \n",
    "from nums1."
   ]
  },
  {
   "cell_type": "markdown",
   "metadata": {},
   "source": [
    "#### Brute force solution"
   ]
  },
  {
   "cell_type": "code",
   "execution_count": 6,
   "metadata": {},
   "outputs": [
    {
     "name": "stdout",
     "output_type": "stream",
     "text": [
      "[1, 2, 2, 3, 5, 6]\n"
     ]
    }
   ],
   "source": [
    "nums1 = [1,2,3,0,0,0]\n",
    "m = 3\n",
    "nums2 = [2,5,6]\n",
    "n = 3\n",
    "\n",
    "for i in range(m, m+n):\n",
    "    nums1[i] = nums2[m-i]\n",
    "\n",
    "nums1.sort()\n",
    "\n",
    "print(nums1)\n"
   ]
  },
  {
   "cell_type": "markdown",
   "metadata": {},
   "source": [
    "#### Three Pointers (start from the end)\n",
    "This is the most efficient solution"
   ]
  },
  {
   "cell_type": "code",
   "execution_count": 57,
   "metadata": {},
   "outputs": [
    {
     "name": "stdout",
     "output_type": "stream",
     "text": [
      "[1, 2, 2, 3, 5, 6, 7]\n"
     ]
    }
   ],
   "source": [
    "\n",
    "\n",
    "\n",
    "# Continue the loop while there are elements to compare in nums2 (p2 >= 0).\n",
    "# The loop also checks (p >= 0) to ensure we don't go out of bounds in nums1.\n",
    "\n",
    "def merge_sorted_arrays(nums1, nums2, m ,n):\n",
    "\n",
    "    # Initialize read pointers for nums1 and nums2, starting from their end positions.\n",
    "    p1 = m-1\n",
    "    p2 = n-1\n",
    "\n",
    "    # and writer point at the very end of num1\n",
    "    p = m+n -1  \n",
    "    \n",
    "    while p >= 0 and p2 >=0 :\n",
    "\n",
    "        if p1 > 0 and nums1[p1] > nums2[p2] :\n",
    "            \"\"\"\n",
    "            \n",
    "            \"\"\"\n",
    "\n",
    "            nums1[p] = nums1[p1]  # Place nums2's element in nums1 at location p.\n",
    "            p1 = p1 - 1           # Move pointer p2 to the left in nums2.\n",
    "        \n",
    "        else:\n",
    "            nums1[p] = nums2[p2] # Place nums1's element p1 in position p in nums1.\n",
    "            p2 = p2 -1           # Move pointer p1 to the left in nums1.\n",
    "        \n",
    "        # Move write pointer `p` to the left to fill the next position.\n",
    "        p = p-1 \n",
    "\n",
    "nums1 = [1,2,3,0,0,0,0] \n",
    "nums2 = [2,5,6, 7]       \n",
    "m, n = 3, 4\n",
    "\n",
    "merge_sorted_arrays(nums1,nums2,m,n)\n",
    "\n",
    "print(nums1)\n",
    "\n",
    "\n"
   ]
  },
  {
   "cell_type": "markdown",
   "metadata": {},
   "source": [
    "# 238. Product of Array Except Self\n",
    "% Topics: Array, Prefix Sum\n",
    "\n",
    "Given an integer array nums, return an array answer such that answer[i] is equal\n",
    " to the product of all the elements of nums except nums[i].\n",
    "\n",
    "The product of any prefix or suffix of nums is guaranteed to fit in a 32-bit \n",
    "integer.\n",
    "\n",
    "You must write an algorithm that runs in O(n) time and without using the division \n",
    "operation.\n",
    "\n",
    "\n",
    "Example 1:\n",
    "\n",
    "Input: nums = [1,2,3,4]\n",
    "Output: [24,12,8,6]\n",
    "Example 2:\n",
    "\n",
    "Input: nums = [-1,1,0,-3,3]\n",
    "Output: [0,0,9,0,0]\n",
    "\n",
    " "
   ]
  },
  {
   "cell_type": "code",
   "execution_count": 11,
   "metadata": {},
   "outputs": [
    {
     "data": {
      "text/plain": [
       "[0, 0, 9, 0, 0]"
      ]
     },
     "execution_count": 11,
     "metadata": {},
     "output_type": "execute_result"
    }
   ],
   "source": [
    "\n",
    "# A) Brute Force\n",
    "nums = [-1,1,0,-3,3]\n",
    "\n",
    "result = []\n",
    "\n",
    "for i in range(len(nums)):\n",
    "    product = 1\n",
    "    for j in range(len(nums)):\n",
    "        if i != j:\n",
    "            product = product * nums[j]\n",
    "    \n",
    "    result.append(product)"
   ]
  },
  {
   "cell_type": "markdown",
   "metadata": {},
   "source": [
    "\n",
    "For every given index, i, we will make use of the product of all the numbers to \n",
    "the left of it and multiply it by the product of all the numbers to the right. \n",
    "This will give us the product of all the numbers except the one at the given \n",
    "index i.\n",
    "<img src=\"../images/238_left.png\" alt=\"left\" width=\"450\"/>\n",
    "<img src=\"../images/238_right.png\" alt=\"left\" width=\"450\"/>\n",
    "\n"
   ]
  },
  {
   "cell_type": "markdown",
   "metadata": {},
   "source": [
    "\n",
    "\n",
    "1. We initialize lists left and right such that we can access and assign new \n",
    "values throughout the loop. THis is a usefull alternative than the usual append\n",
    "\n",
    "2. Notice the second loop:  `for i in range(n - 2, -1, -1)`. This means that we \n",
    "go from n-2 to 0 taking steps of size 1, but in *reverse order*. "
   ]
  },
  {
   "cell_type": "code",
   "execution_count": 39,
   "metadata": {},
   "outputs": [
    {
     "name": "stdout",
     "output_type": "stream",
     "text": [
      "i:1, left:[1, 4, 1, 1, 1, 1, 1], nums:[4, 5, 1, 8, 2, 10, 6] \n",
      "i:2, left:[1, 4, 20, 1, 1, 1, 1], nums:[4, 5, 1, 8, 2, 10, 6] \n",
      "i:3, left:[1, 4, 20, 20, 1, 1, 1], nums:[4, 5, 1, 8, 2, 10, 6] \n",
      "i:4, left:[1, 4, 20, 20, 160, 1, 1], nums:[4, 5, 1, 8, 2, 10, 6] \n",
      "i:5, left:[1, 4, 20, 20, 160, 320, 1], nums:[4, 5, 1, 8, 2, 10, 6] \n",
      "i:6, left:[1, 4, 20, 20, 160, 320, 3200], nums:[4, 5, 1, 8, 2, 10, 6] \n",
      "i:5, right:[1, 1, 1, 1, 1, 6, 1], nums:[4, 5, 1, 8, 2, 10, 6] \n",
      "i:4, right:[1, 1, 1, 1, 60, 6, 1], nums:[4, 5, 1, 8, 2, 10, 6] \n",
      "i:3, right:[1, 1, 1, 120, 60, 6, 1], nums:[4, 5, 1, 8, 2, 10, 6] \n",
      "i:2, right:[1, 1, 960, 120, 60, 6, 1], nums:[4, 5, 1, 8, 2, 10, 6] \n",
      "i:1, right:[1, 960, 960, 120, 60, 6, 1], nums:[4, 5, 1, 8, 2, 10, 6] \n",
      "i:0, right:[4800, 960, 960, 120, 60, 6, 1], nums:[4, 5, 1, 8, 2, 10, 6] \n",
      "answer: [4800, 3840, 19200, 2400, 9600, 1920, 3200]\n"
     ]
    }
   ],
   "source": [
    "# Left and Right Products\n",
    "nums = [4, 5, 1, 8, 2, 10, 6]\n",
    "n = len(nums)\n",
    "\n",
    "left = [1] * n\n",
    "right = [1] * n\n",
    "\n",
    "for i in range(1, n): \n",
    "    left[i] = left[i - 1] * nums[i - 1]\n",
    "    #print(f\"i:{i}, left:{left}, nums:{nums} \")\n",
    "\n",
    "for i in range(n - 2, -1, -1):\n",
    "    right[i] = right[i + 1] * nums[i + 1]\n",
    "    #print(f\"i:{i}, right:{right}, nums:{nums} \")\n",
    "answer = []\n",
    "for i in range(n):\n",
    "    product = left[i] * right[i]\n",
    "    answer.append(product)\n",
    "     \n",
    "print(f\"answer: {answer}\")\n"
   ]
  },
  {
   "cell_type": "markdown",
   "metadata": {},
   "source": [
    "# 7. Reverse Integer\n",
    "\n",
    "Theme: math.\n",
    "Given a signed 32-bit integer x, return x with its digits reversed. If reversing \n",
    "x causes the value to go outside the signed 32-bit integer range [-231, 231 - 1],\n",
    "then return 0.\n",
    "\n",
    "* Example 1: Input: x = 123. | Output: 321\n",
    "\n",
    "* Example 2:  Input: x = -123 | Output: -321\n",
    "\n",
    "* Example 3: Input: x = 120 | Output: 21"
   ]
  },
  {
   "cell_type": "code",
   "execution_count": 102,
   "metadata": {},
   "outputs": [
    {
     "data": {
      "text/plain": [
       "-234"
      ]
     },
     "execution_count": 102,
     "metadata": {},
     "output_type": "execute_result"
    }
   ],
   "source": [
    "class Solution:\n",
    "    def reverse(self, x:int) -> int:\n",
    "        if x > 0:\n",
    "            x_str = str(x)\n",
    "            x_str = x_str[::-1]\n",
    "            x_rvd = int(x_str)\n",
    "        else:\n",
    "            x_str = str(x*(-1))\n",
    "            x_str = x_str[::-1]\n",
    "            x_rvd = int(x_str)*(-1)\n",
    "\n",
    "        return x_rvd if x_rvd > (-2**31) and x_rvd < 2 ** 31 else 0\n",
    "\n",
    "x = -432\n",
    "\n",
    "Solution().reverse(x)"
   ]
  },
  {
   "cell_type": "markdown",
   "metadata": {},
   "source": [
    "### Slicing in Python\n",
    "\n",
    "Notice that we use the slice [::-1] in the solution above. Here is a quick \n",
    "summary of slicing in Python:\n",
    "\n",
    "Slicing allows you to access a subset of elements from sequences such as strings, \n",
    "lists, tuples, and other objects that support the sequence protocol.\n",
    "\n",
    "#### Basic Syntax\n",
    "`sequence[start:stop:step]``\n",
    "\t• start: The index where the slice starts (inclusive). If omitted, the \n",
    "\tslice starts from the beginning.\n",
    "\t• stop: The index where the slice ends (exclusive). If omitted, the slice \n",
    "\tgoes up to the end of the sequence.\n",
    "\t• step: The step size or stride. If omitted, it defaults to 1. A negative\n",
    "\t step reverses the direction.\n",
    "\n",
    "`my_list = [0, 1, 2, 3, 4, 5]`\n",
    "\n",
    "1. Basic Slicing\t\n",
    "\t* `slice1 = my_list[1:4]`  \n",
    "\tOutput: [1, 2, 3 ]\n",
    "\n",
    "2. Omitting start or stop\n",
    "\t* `slice2 = my_list[:3]`  \n",
    "\t Output: [0, 1, 2]\n",
    "\t* `slice3 = my_list[3:]`  \n",
    "\t Output: [3, 4, 5]\n",
    "\n",
    "3. Using steps to control the stride\n",
    "\t* Every second elevent\n",
    "\t`slice5 = my_list[::2]`\n",
    "\tOutput: [0, 2, 4]\n",
    "\n",
    "4. Steps = -1 to reverse the sequence\n",
    "\t* `reversed_list = my_list[::-1]`  \n",
    "\toutputs [5, 4, 3, 2, 1, 0]"
   ]
  },
  {
   "cell_type": "markdown",
   "metadata": {},
   "source": [
    "####  9. Palindrome Number\n",
    "Given an integer x, return true if x is a \n",
    "palindrome, and false otherwise.\n",
    "\n",
    "Input: x = 121 | Output: true\n",
    "Explanation: 121 reads as 121 from left to right and from right to left.\n",
    "\n",
    "\n",
    "Input: x = -121 | Output: false\n",
    "Explanation: From left to right, it reads -121. From right to left, it becomes 121-. Therefore it is not a palindrome."
   ]
  },
  {
   "cell_type": "code",
   "execution_count": 152,
   "metadata": {},
   "outputs": [
    {
     "name": "stdout",
     "output_type": "stream",
     "text": [
      "Not a palindrome!\n"
     ]
    }
   ],
   "source": [
    "class Solution:\n",
    "    def isPalindrome(self, x:int) -> bool:\n",
    "        x_str = str(x)\n",
    "        x_rvd = x_str[::-1]\n",
    "        x_rvd\n",
    "\n",
    "        if x_rvd == x_str:\n",
    "            return True\n",
    "        else:\n",
    "            return False"
   ]
  },
  {
   "cell_type": "markdown",
   "metadata": {},
   "source": []
  },
  {
   "cell_type": "code",
   "execution_count": null,
   "metadata": {},
   "outputs": [],
   "source": [
    "def isPossible(self, A):\n",
    "    \"\"\"\n",
    "    Determines if it's possible to split the sorted integer array 'A' into one or more subsequences\n",
    "    such that each subsequence is a consecutive increasing sequence of length at least 3.\n",
    "\n",
    "    Parameters:\n",
    "    - A: List[int] - A sorted list of integers.\n",
    "\n",
    "    Returns:\n",
    "    - bool: True if possible to split as per the conditions, False otherwise.\n",
    "    \"\"\"\n",
    "    import collections  # Import the 'collections' module to use 'Counter'.\n",
    "\n",
    "    # 'left' counts the number of times each number appears in 'A'.\n",
    "    # It represents the numbers that are still available to be placed in subsequences.\n",
    "    left = collections.Counter(A)\n",
    "\n",
    "    # 'end' counts the number of subsequences ending with a specific number.\n",
    "    # It helps track subsequences that can be extended.\n",
    "    end = collections.Counter()\n",
    "\n",
    "    # Iterate over each number 'i' in the array 'A'.\n",
    "    for i in A:\n",
    "        # If 'i' has already been used up in subsequences, skip it.\n",
    "        if not left[i]:\n",
    "            continue\n",
    "\n",
    "        # Use one occurrence of 'i'.\n",
    "        left[i] -= 1\n",
    "\n",
    "        # Check if there's a subsequence ending with 'i - 1' that can be extended.\n",
    "        if end[i - 1] > 0:\n",
    "            # Decrement the count of subsequences ending with 'i - 1'.\n",
    "            end[i - 1] -= 1\n",
    "            # Increment the count of subsequences now ending with 'i'.\n",
    "            end[i] += 1\n",
    "        # If no such subsequence exists, try to create a new subsequence [i, i+1, i+2].\n",
    "        elif left[i + 1] > 0 and left[i + 2] > 0:\n",
    "            # Use one occurrence of 'i + 1'.\n",
    "            left[i + 1] -= 1\n",
    "            # Use one occurrence of 'i + 2'.\n",
    "            left[i + 2] -= 1\n",
    "            # Increment the count of subsequences ending with 'i + 2'.\n",
    "            end[i + 2] += 1\n",
    "        else:\n",
    "            # Cannot place 'i' in any subsequence as per the rules.\n",
    "            return False  # Early exit since the conditions cannot be met.\n",
    "\n",
    "    # All numbers have been placed successfully in valid subsequences.\n",
    "    return True"
   ]
  },
  {
   "cell_type": "markdown",
   "metadata": {},
   "source": [
    "### 659. Split Array into Consecutive Subsequences\n",
    "https://leetcode.com/problems/split-array-into-consecutive-subsequences/description/?envType=company&envId=google&favoriteSlug=google-all&difficulty=EASY%2CMEDIUM&role=data-scientist-data-engineer\n",
    "\n",
    "Medium / hard\n",
    "\n",
    "You are given an integer array nums that is **sorted in non-decreasing order.**\n",
    "\n",
    "Determine if it is possible to split nums into **one or more subsequences** such\n",
    "that both of the following conditions are true:\n",
    "\n",
    "1. Each subsequence is a consecutive increasing sequence (i.e. each integer is \n",
    "exactly one more than the previous integer).\n",
    "2. All subsequences have a length of 3 or **more**.\n",
    "\n",
    "Return true if you can split nums according to the above conditions, or false\n",
    "otherwise.\n",
    "\n",
    "A **subsequence** of an array is a new array that is formed from the original\n",
    "array by deleting some (can be none) of the elements without disturbing the \n",
    "relative positions of the remaining elements. (i.e., [1,3,5] is a subsequence of\n",
    " [1,2,3,4,5] while [1,3,2] is not)."
   ]
  },
  {
   "cell_type": "markdown",
   "metadata": {},
   "source": [
    "<img src=\"../images/659_1.png\" alt=\"Left\" width=\"450\"/>\n",
    "<img src=\"../images/659_2.png\" alt=\"right\" width=\"450\"/>\n",
    "<img src=\"../images/659_3.png\" alt=\"right\" width=\"450\"/>\n",
    "<img src=\"../images/659_4.png\" alt=\"right\" width=\"450\"/>\n",
    "<img src=\"../images/659_5.png\" alt=\"right\" width=\"450\"/>"
   ]
  },
  {
   "cell_type": "code",
   "execution_count": 12,
   "metadata": {},
   "outputs": [],
   "source": [
    "def isPossible(self, nums):\n",
    "    \"\"\"\n",
    "    Determines if it's possible to split the sorted integer array 'nums' into one or more subsequences\n",
    "    such that each subsequence is a consecutive increasing sequence of length at least 3.\n",
    "\n",
    "    Parameters:\n",
    "    - nums: List[int] - nums sorted list of integers.\n",
    "\n",
    "    Returns:\n",
    "    - bool: True if possible to split as per the conditions, False otherwise.\n",
    "    \"\"\"\n",
    "    import collections  # Import the 'collections' module to use 'Counter'.\n",
    "\n",
    "    # 'frequency_map' counts the number of times each number appears in 'nums'.\n",
    "    # It represents the numbers that are still available to be placed in subsequences.\n",
    "    frequency_map = collections.Counter(nums)\n",
    "\n",
    "    # 'end' counts the number of subsequences ending with a specific number.\n",
    "    # It helps track subsequences that can be extended.\n",
    "    subsequence_map = collections.Counter()\n",
    "\n",
    "    # Iterate over each number 'i' in the array 'nums'.\n",
    "    for i in nums:\n",
    "        # If 'i' has already been used up in subsequences, skip it.\n",
    "        if not frequency_map[i]:\n",
    "            continue\n",
    "        \n",
    "        frequency_map[i] -= 1    # Use one occurrence of 'i'.\n",
    "\n",
    "        # Check if there's a subsequence ending with 'i - 1' that can be extended.\n",
    "        if subsequence_map[i - 1] > 0:\n",
    "            subsequence_map[i - 1] -= 1 # Decrement the count of subsequences ending with 'i - 1'.\n",
    "            subsequence_map[i] += 1      # Increment the count of subsequences now ending with 'i'.\n",
    "\n",
    "        # If no such subsequence exists, try to create a new subsequence [i, i+1, i+2].\n",
    "        elif frequency_map[i + 1] > 0 and frequency_map[i + 2] > 0:\n",
    "            frequency_map[i + 1] -= 1 # Use one occurrence of 'i + 1' \n",
    "            frequency_map[i + 2] -= 1 # Use one occurrence of 'i + 2'\n",
    "            subsequence_map[i + 2] += 1 # Increment the count of subsequences ending with 'i + 2'.\n",
    "\n",
    "        else:\n",
    "            # Cannot place 'i' in any subsequence as per the rules.\n",
    "            return False  # Early exit since the conditions cannot be met.\n",
    "\n",
    "    # All numbers have been placed successfully in valid subsequences.\n",
    "    return True"
   ]
  }
 ],
 "metadata": {
  "kernelspec": {
   "display_name": ".venv",
   "language": "python",
   "name": "python3"
  },
  "language_info": {
   "codemirror_mode": {
    "name": "ipython",
    "version": 3
   },
   "file_extension": ".py",
   "mimetype": "text/x-python",
   "name": "python",
   "nbconvert_exporter": "python",
   "pygments_lexer": "ipython3",
   "version": "3.12.5"
  }
 },
 "nbformat": 4,
 "nbformat_minor": 2
}
