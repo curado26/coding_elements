{
 "cells": [
  {
   "cell_type": "code",
   "execution_count": 1,
   "metadata": {},
   "outputs": [],
   "source": [
    "import numpy as np"
   ]
  },
  {
   "cell_type": "markdown",
   "metadata": {},
   "source": [
    "# Evaluation Metrics\n",
    "\n",
    "#### Summary:\n",
    "\n",
    "* Precision: Focuses on the proportion of relevant instances (true positives) among the retrieved instances.\n",
    "* Recall: Measures the proportion of actual positives correctly identified.\n",
    "* F1 Score: A balance between precision and recall.\n",
    "* Confusion Matrix: Provides a comprehensive view of the model’s performance.\n",
    "* ROC Curve and AUC: Useful for evaluating the trade-off between recall and false positives at different thresholds, with AUC providing a summary measure.\n",
    "\n",
    "\n",
    "#### Precision\n",
    "\n",
    "Precision measures the proportion of **true positives predictions** out of all positive prediction made\n",
    "\n",
    "$$ \\text{Precision} = \\frac{\\text{True Positives}}{\\text{True Positives} + \\text{False Positives}}$$\n",
    "\n",
    "It is important to look at precision when the cost of false positives is high (eg\n",
    "spam detection).\n"
   ]
  },
  {
   "cell_type": "code",
   "execution_count": 2,
   "metadata": {},
   "outputs": [],
   "source": [
    "def precision_score(y_true, y_pred):\n",
    "\n",
    "    true_positive = np.sum((y_true==1) & (y_pred==1))\n",
    "    false_positive = np.sum((y_true==0) & (y_pred==1) )\n",
    "\n",
    "    return true_positive/false_positive"
   ]
  },
  {
   "cell_type": "markdown",
   "metadata": {},
   "source": [
    "#### Recall\n",
    "\n",
    "Recall measures the proportion of **true positive predictions** out of all \n",
    "actual positive cases. \n",
    "\n",
    "$$ \\text{Recal} = \\frac{\\text{True Positives}}{\\text{True Positives} + \\text{False Negatives}}$$\n",
    "\n",
    "It is import to look at recall when it is critical to capture as many positives as possible, such as in disease detection (missing an actual positive case is \n",
    "dangerous)\n",
    "\n"
   ]
  },
  {
   "cell_type": "code",
   "execution_count": 3,
   "metadata": {},
   "outputs": [],
   "source": [
    "def recall_score(y_true, y_pred):\n",
    "\n",
    "    true_positive = np.sum( (y_true == 1) & (y_pred == 1) )\n",
    "    false_negative = np.sum( (y_true == 1) & (y_pred == 0) )\n",
    "\n",
    "    return true_positive/(true_positive + false_negative)"
   ]
  },
  {
   "cell_type": "markdown",
   "metadata": {},
   "source": [
    "#### F1 Score\n",
    "The F1 Score is the **harmonic mean** of precision and recall. \n",
    "\n",
    "$$ \\text{F1 Score} = 2\\frac{\\text{Precision} * \\text{Recall}}{\\text{Precision} + \\text{Recall}}  $$\n",
    "\n",
    "The metric is usefull when we need to balance the trade-off between precision and recall\n",
    "#### ROC Curve and AUC\n",
    "\n",
    "The ROC curve is a plot that show the trade-off between **true positive rate (recall)** and **false positive rate (FPR)**\n",
    "\n",
    "THE AUC (Area Under the Curve) represents the area under the ROC curve and is a single number that summarizes the model's ability to distinguish classess: the higher the AUC, the better the model."
   ]
  },
  {
   "cell_type": "markdown",
   "metadata": {},
   "source": [
    "# K-Fold Coss-Validation"
   ]
  },
  {
   "cell_type": "code",
   "execution_count": 4,
   "metadata": {},
   "outputs": [],
   "source": [
    "import numpy as np\n",
    "\n",
    "def k_fold(model, X, y, k = 5):\n",
    "    \"\"\"\n",
    "    Perform a K-fold cross-validation using a given model. \n",
    "\n",
    "    -----------\n",
    "    Parameters\n",
    "    -----------\n",
    "    model: object\n",
    "        Machine learning model.\n",
    "    X: numpy array\n",
    "        Feature matrix.\n",
    "    y: numpy array\n",
    "        Target vector\n",
    "    k: positive non-zero integer\n",
    "        Number of folds\n",
    "    \n",
    "    -----------\n",
    "    Returns\n",
    "    -----------\n",
    "    scores: list\n",
    "    List of evaluation scores for each fold\n",
    "    \"\"\"\n",
    "\n",
    "    # Shuffle data indices for random splliting\n",
    "    indices = np.arange(len(X))\n",
    "    np.random.shuffle(indices)\n",
    "\n",
    "    # Define size of each fold\n",
    "    fold_size = len(X) // k\n",
    "\n",
    "    scores = []\n",
    "\n",
    "    for i in range(k):\n",
    "        # Define train and test indices\n",
    "        test_indices  = indices[ i*fold_size: (i+1)*fold_size]\n",
    "        train_indices = np.delete(indices, test_indices)\n",
    "        \n",
    "        # Split the data\n",
    "        X_train, y_train =  X[train_indices], y[train_indices]\n",
    "        X_test, y_test   =  X[test_indices], y[test_indices]\n",
    "       \n",
    "\n",
    "        # Train the model and evaluate\n",
    "        ## I'm assuming model has bot a fit and a score defined fucntion in the class\n",
    "        model.fit(X_train, y_train)\n",
    "        score = model.score(X_test, y_test)\n",
    "        scores.append(score)\n",
    "\n",
    "    return scores"
   ]
  },
  {
   "cell_type": "markdown",
   "metadata": {},
   "source": [
    "# Time-Series Rolling Windows"
   ]
  }
 ],
 "metadata": {
  "kernelspec": {
   "display_name": ".venv",
   "language": "python",
   "name": "python3"
  },
  "language_info": {
   "codemirror_mode": {
    "name": "ipython",
    "version": 3
   },
   "file_extension": ".py",
   "mimetype": "text/x-python",
   "name": "python",
   "nbconvert_exporter": "python",
   "pygments_lexer": "ipython3",
   "version": "3.12.5"
  }
 },
 "nbformat": 4,
 "nbformat_minor": 2
}
