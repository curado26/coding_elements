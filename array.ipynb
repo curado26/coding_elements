{
 "cells": [
  {
   "cell_type": "code",
   "execution_count": null,
   "metadata": {},
   "outputs": [],
   "source": []
  },
  {
   "cell_type": "markdown",
   "metadata": {},
   "source": [
    "# LEET CODE 1. Two Sum\n",
    "\n",
    "Given an array of integers nums and an integer target, return indices of the two numbers such that they add up to target.\n",
    "\n",
    "You may assume that each input would have exactly one solution, and you may not use the same element twice.\n",
    "\n",
    "You can return the answer in any order.\n",
    "Example 1:\n",
    "\n",
    "Input: nums = [2,7,11,15], target = 9\n",
    "Output: [0,1]\n",
    "Explanation: Because nums[0] + nums[1] == 9, we return [0, 1]."
   ]
  },
  {
   "cell_type": "code",
   "execution_count": 28,
   "metadata": {},
   "outputs": [],
   "source": [
    "nums = [2,7,11,15]\n",
    "target = 9"
   ]
  },
  {
   "cell_type": "markdown",
   "metadata": {},
   "source": [
    "### Brute Force Solution"
   ]
  },
  {
   "cell_type": "code",
   "execution_count": 27,
   "metadata": {},
   "outputs": [
    {
     "name": "stdout",
     "output_type": "stream",
     "text": [
      "[0, 1]\n"
     ]
    }
   ],
   "source": [
    "def twoSum(nums, target):\n",
    "\n",
    "    for i in range(0,len(nums)):\n",
    "        for j in range(i+1, len(nums)):\n",
    "\n",
    "            y = nums[i] + nums[j]\n",
    "\n",
    "            if y == target:\n",
    "                result = [i,j]\n",
    "                return result\n",
    "\n",
    "result = twoSum(nums, target)\n",
    "print(result)"
   ]
  },
  {
   "cell_type": "markdown",
   "metadata": {},
   "source": [
    "# Hashmap\n",
    "\n",
    "A HashMap is a data structure that provides an efficient way to store and retrieve **key-value pairs**.\n",
    "\n",
    "\t1.\tEfficiency:\n",
    "\t    •\tHashMaps offer efficient data storage and retrieval, which is critical in many data science tasks like counting frequencies, aggregating data, and performing quick lookups.\n",
    "\t2.\tCommon Interview Problems:\n",
    "\t    •\tMany coding interview questions in data science can be solved more efficiently with HashMaps. Examples include:\n",
    "\t    •\tCounting occurrences (e.g., word count).\n",
    "\t    •\tFinding duplicates.\n",
    "\t    •\tTwo-sum problem (checking if two numbers add up to a target).\n",
    "\t    •\tGrouping and aggregating data based on keys."
   ]
  },
  {
   "cell_type": "code",
   "execution_count": 43,
   "metadata": {},
   "outputs": [
    {
     "data": {
      "text/plain": [
       "(0, 1)"
      ]
     },
     "execution_count": 43,
     "metadata": {},
     "output_type": "execute_result"
    }
   ],
   "source": [
    "def twoSum_hashmap(nums, target):\n",
    "    \n",
    "    map = {} # Initialize and empty Dictionary\n",
    "    \n",
    "    # Iterate through each element in the nums list\n",
    "    for i in range(len(nums)):\n",
    "\n",
    "        complement = target - nums[i] # the value we need to find in the list\n",
    "\n",
    "        # checks if the value of complement exists as a key in the dictionary map.\n",
    "        if complement in map:\n",
    "            return (   map[complement], i  )\n",
    "        \n",
    "        #Update the map dictionary\n",
    "        map[nums[i]] = i # add the current number (nums[i]) as the key and index (i) as the value\n",
    "\n",
    "    return [] \n",
    "\n",
    "twoSum_hashmap(nums, target)"
   ]
  },
  {
   "cell_type": "markdown",
   "metadata": {},
   "source": [
    "### A quick note on dictionaries in Python\n",
    "\n",
    "A dictionary in Python is a built-in data structure that stores data as key-value pairs. Key concepts:\n",
    "\n",
    "1.\tKey-Value Pairs:\n",
    "\t•\tEach element in a dictionary is stored as a pair consisting of a unique key and an associated value.\n",
    "\t•\tExample: {\"apple\": 3, \"banana\": 5} — Here, \"apple\" and \"banana\" are keys, and 3 and 5 are their corresponding values.\n",
    "\n",
    "2.\tKeys:\n",
    "\t•\tMust be unique and immutable (e.g., strings, numbers, or tuples).\n",
    "\t•\tUsed to access the corresponding value efficiently.\n",
    "\t•\tIn the two-sum problem, keys represent numbers encountered in the list (nums).\n",
    "\n",
    "3.\tValues:\n",
    "\t•\tCan be of any data type and are associated with keys.\n",
    "\t•\tIn the two-sum problem, values represent indices of the numbers in the list.\n",
    "\n",
    "4.\tInitialization and Access:\n",
    "\t•\tA dictionary is created using curly braces {}.\n",
    "\t•\tYou can add or access elements using square brackets [].\n",
    "\t•\tExample: map = {} initializes an empty dictionary. map[2] = 0 adds a key 2 with value 0.\n",
    "\n",
    "5.\tLookup:\n",
    "\t•\tif key in dictionary: checks if a key is present in the dictionary.\n",
    "    To check if a value exists in a dictionary in Python, we have to use \"x in map.values()\"\n"
   ]
  },
  {
   "cell_type": "markdown",
   "metadata": {},
   "source": [
    "# LeetCode 350:  Intersection of Two Arrays II\n",
    "\n",
    "Given two integer arrays nums1 and nums2, return an array of their intersection. Each element in the result must appear as many times as it shows in both arrays and you may return the result in any order.\n",
    "\n",
    " \n",
    "\n",
    "Example 1:\n",
    "\n",
    "Input: nums1 = [1,2,2,1], nums2 = [2,2]\n",
    "Output: [2,2]\n",
    "Example 2:\n",
    "\n",
    "Input: nums1 = [4,9,5], nums2 = [9,4,9,8,4]\n",
    "Output: [4,9]\n",
    "Explanation: [9,4] is also accepted."
   ]
  },
  {
   "cell_type": "code",
   "execution_count": 71,
   "metadata": {},
   "outputs": [
    {
     "name": "stdout",
     "output_type": "stream",
     "text": [
      "[4, 9, 9, 10]\n"
     ]
    }
   ],
   "source": [
    "class Solution:\n",
    "    def intersect(self, nums1, nums2) -> int:\n",
    "        \"\"\"\n",
    "        This function finds the intersection of two lists, nums1 and nums2, \n",
    "        and return the elements that are common to both lists.\n",
    "        Done by myself =)!!\n",
    "        \"\"\"     \n",
    "        \n",
    "        # Initialize empty list to store the intersection values\n",
    "        results = []\n",
    "        \n",
    "        \n",
    "        # Create a dictionary (nums2_dict) from nums2 using enumerate\n",
    "        # The dictionary maps the index of each element in nums2 to the element itself\n",
    "        # Example: nums2 = [4, 9, 5] -> nums2_dict = {0: 4, 1: 9, 2: 5}\n",
    "\n",
    "        nums2_dict = dict(enumerate(nums2))\n",
    "\n",
    "        # Iterate over each element in nums1\n",
    "        for i in nums1:\n",
    "            \n",
    "            # Initialize/update variable to store the key (index) of the found value\n",
    "            key_found = None\n",
    "            \n",
    "            # Iterate through each key-value pair in the nums2_dict dictionary\n",
    "            for key, value in nums2_dict.items():\n",
    "\n",
    "                # Check if the current value from nums2_dict matches the current element from nums1 (i)\n",
    "                if value == i:\n",
    "\n",
    "                    # If a match is found, store the key of the found value in key_found\n",
    "                    key_found = key\n",
    "                    \n",
    "                     # Append the found value to the results list\n",
    "                    results.append(value)\n",
    "\n",
    "                    # Delete the found key-value pair from nums2_dict to avoid duplicate matches\n",
    "                    del nums2_dict[key_found]\n",
    "\n",
    "                    # Break the inner loop since the value has been found and handled\n",
    "                    break\n",
    "\n",
    "            # Return the list of intersected values    \n",
    "        return results\n",
    "\n",
    "nums1 = [4,9,5,9, 10]\n",
    "nums2 = [9,4,9,8,4,10]            \n",
    "\n",
    "a = Solution().intersect(nums1, nums2)\n",
    "print(a)\n"
   ]
  },
  {
   "cell_type": "markdown",
   "metadata": {},
   "source": [
    "nums2_dict.values"
   ]
  },
  {
   "cell_type": "markdown",
   "metadata": {},
   "source": [
    "# 88. Merge Sorted Array\n",
    "\n",
    "You are given two integer arrays nums1 and nums2, sorted in non-decreasing order, and two integers m and n, representing the number of elements in nums1 and nums2 respectively.\n",
    "\n",
    "Merge nums1 and nums2 into a single array sorted in non-decreasing order.\n",
    "\n",
    "The final sorted array should not be returned by the function, but instead be stored inside the array nums1. To accommodate this, nums1 has a length of m + n, where the first m elements denote the elements that should be merged, and the last n elements are set to 0 and should be ignored. nums2 has a length of n.\n",
    "\n",
    " \n",
    "\n",
    "Example 1:\n",
    "\n",
    "Input: nums1 = [1,2,3,0,0,0], m = 3, nums2 = [2,5,6], n = 3\n",
    "Output: [1,2,2,3,5,6]\n",
    "Explanation: The arrays we are merging are [1,2,3] and [2,5,6].\n",
    "The result of the merge is [1,2,2,3,5,6] with the underlined elements coming from nums1."
   ]
  },
  {
   "cell_type": "markdown",
   "metadata": {},
   "source": [
    "#### Brute force (aka real world) solution"
   ]
  },
  {
   "cell_type": "code",
   "execution_count": 85,
   "metadata": {},
   "outputs": [
    {
     "name": "stdout",
     "output_type": "stream",
     "text": [
      "[1, 2, 2, 3, 5, 6]\n"
     ]
    }
   ],
   "source": [
    "nums1 = [1,2,3,0,0,0]\n",
    "m = 3\n",
    "nums2 = [2,5,6]\n",
    "n = 3\n",
    "\n",
    "\n",
    "\n",
    "for i in range(m, m+n):\n",
    "    nums1[i] = nums2[m-i]\n",
    "\n",
    "nums1.sort()\n",
    "\n",
    "print(nums1)\n"
   ]
  },
  {
   "cell_type": "markdown",
   "metadata": {},
   "source": [
    "#### Three Pointers (start from the end)\n",
    "This is the most efficient solution"
   ]
  },
  {
   "cell_type": "code",
   "execution_count": 101,
   "metadata": {},
   "outputs": [
    {
     "name": "stdout",
     "output_type": "stream",
     "text": [
      "[1, 2]\n"
     ]
    }
   ],
   "source": [
    "nums1 = [1,2,3,0,0,0] \n",
    "nums2 = [2,5,6]       \n",
    "m = 3\n",
    "n = 3\n",
    "\n",
    "nums1 = [2,0]\n",
    "m = 1\n",
    "nums2 = [1]\n",
    "n = 1\n",
    "\n",
    "\n",
    "# Initialize read pointers for nums1 and nums2, starting from their end positions.\n",
    "\n",
    "p1 = m-1\n",
    "p2 = n-1\n",
    "\n",
    "# and writer point at the very end of num1\n",
    "p = m+n -1\n",
    "\n",
    "# Continue the loop while there are elements to compare in nums2 (p2 >= 0).\n",
    "# The loop also checks (p >= 0) to ensure we don't go out of bounds in nums1.\n",
    "while (p >= 0) & (p2 >=0) :\n",
    "\n",
    "\n",
    "    if (nums2[p2] > nums1[p1]) | (p1 < 0):\n",
    "        \"\"\"\n",
    "        If the current element in nums2 is greater than the current element in nums1,\n",
    "        OR if all elements from nums1 have been placed and p1 is out of bounds (p1 < 0),\n",
    "         then place the element from nums2 into the current position of nums1.\n",
    "        This handles the case where we have finished processing nums1 but still have\n",
    "         elements left in nums2.\n",
    "        \"\"\"\n",
    "\n",
    "\n",
    "        nums1[p] = nums2[p2]  # Place nums2's element in nums1 at location p.\n",
    "        p2 = p2 - 1           # Move pointer p2 to the left in nums2.\n",
    "    \n",
    "    else:\n",
    "        nums1[p] = nums1[p1] # Place nums1's element p1 in position p in nums1.\n",
    "        p1 = p1 -1           # Move pointer p1 to the left in nums1.\n",
    "    \n",
    "     # Move write pointer `p` to the left to fill the next position.\n",
    "    p = p-1 \n",
    "\n",
    "print(nums1)\n"
   ]
  },
  {
   "cell_type": "code",
   "execution_count": null,
   "metadata": {},
   "outputs": [],
   "source": []
  }
 ],
 "metadata": {
  "kernelspec": {
   "display_name": ".venv",
   "language": "python",
   "name": "python3"
  },
  "language_info": {
   "codemirror_mode": {
    "name": "ipython",
    "version": 3
   },
   "file_extension": ".py",
   "mimetype": "text/x-python",
   "name": "python",
   "nbconvert_exporter": "python",
   "pygments_lexer": "ipython3",
   "version": "3.12.5"
  }
 },
 "nbformat": 4,
 "nbformat_minor": 2
}
