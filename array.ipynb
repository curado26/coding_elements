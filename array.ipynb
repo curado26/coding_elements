{
 "cells": [
  {
   "cell_type": "markdown",
   "metadata": {},
   "source": [
    "# LEET CODE 1. Two Sum\n",
    "\n",
    "Given an array of integers nums and an integer target, return indices of the two numbers such that they add up to target.\n",
    "\n",
    "You may assume that each input would have exactly one solution, and you may not use the same element twice.\n",
    "\n",
    "You can return the answer in any order.\n",
    "Example 1:\n",
    "\n",
    "Input: nums = [2,7,11,15], target = 9\n",
    "Output: [0,1]\n",
    "Explanation: Because nums[0] + nums[1] == 9, we return [0, 1]."
   ]
  },
  {
   "cell_type": "code",
   "execution_count": 2,
   "metadata": {},
   "outputs": [],
   "source": [
    "nums = [2,7,11,15]\n",
    "target = 9"
   ]
  },
  {
   "cell_type": "markdown",
   "metadata": {},
   "source": [
    "### Brute Force Solution"
   ]
  },
  {
   "cell_type": "code",
   "execution_count": 3,
   "metadata": {},
   "outputs": [
    {
     "name": "stdout",
     "output_type": "stream",
     "text": [
      "[0, 1]\n"
     ]
    }
   ],
   "source": [
    "def twoSum(nums, target):\n",
    "\n",
    "    for i in range(0,len(nums)):\n",
    "        for j in range(i+1, len(nums)):\n",
    "\n",
    "            y = nums[i] + nums[j]\n",
    "\n",
    "            if y == target:\n",
    "                result = [i,j]\n",
    "                return result\n",
    "\n",
    "result = twoSum(nums, target)\n",
    "print(result)"
   ]
  },
  {
   "cell_type": "markdown",
   "metadata": {},
   "source": [
    "# Hashmap\n",
    "\n",
    "A HashMap is a data structure that provides an efficient way to store and retrieve **key-value pairs**.\n",
    "\n",
    "1.\tEfficiency:\n",
    "\t•\tHashMaps offer efficient data storage and retrieval, which is critical in many data science tasks like counting frequencies, aggregating data, and performing quick lookups.\n",
    "2.\tCommon Interview Problems:\n",
    "\t•\tMany coding interview questions in data science can be solved more efficiently with HashMaps. Examples include:\n",
    "\t•\tCounting occurrences (e.g., word count).\n",
    "\t•\tFinding duplicates.\n",
    "\t•\tTwo-sum problem (checking if two numbers add up to a target).\n",
    "\t•\tGrouping and aggregating data based on keys."
   ]
  },
  {
   "cell_type": "code",
   "execution_count": 4,
   "metadata": {},
   "outputs": [
    {
     "data": {
      "text/plain": [
       "(0, 1)"
      ]
     },
     "execution_count": 4,
     "metadata": {},
     "output_type": "execute_result"
    }
   ],
   "source": [
    "def twoSum_hashmap(nums, target):\n",
    "    \n",
    "    map = {} # Initialize and empty Dictionary\n",
    "    \n",
    "    # Iterate through each element in the nums list\n",
    "    for i in range(len(nums)):\n",
    "\n",
    "        complement = target - nums[i] # the value we need to find in the list\n",
    "\n",
    "        # checks if the value of complement exists as a key in the dictionary map.\n",
    "        if complement in map:\n",
    "            return (   map[complement], i  )\n",
    "        \n",
    "        #Update the map dictionary\n",
    "        map[nums[i]] = i # add the current number (nums[i]) as the key and index (i) as the value\n",
    "\n",
    "    return [] \n",
    "\n",
    "twoSum_hashmap(nums, target)"
   ]
  },
  {
   "cell_type": "markdown",
   "metadata": {},
   "source": [
    "### A quick note on dictionaries in Python\n",
    "\n",
    "A dictionary in Python is a built-in data structure that stores data as key-value pairs. Key concepts:\n",
    "\n",
    "1.\tKey-Value Pairs:\n",
    "\t•\tEach element in a dictionary is stored as a pair consisting of a unique key and an associated value.\n",
    "\t•\tExample: {\"apple\": 3, \"banana\": 5} — Here, \"apple\" and \"banana\" are keys, and 3 and 5 are their corresponding values.\n",
    "\n",
    "2.\tKeys:\n",
    "\t•\tMust be unique and immutable (e.g., strings, numbers, or tuples).\n",
    "\t•\tUsed to access the corresponding value efficiently.\n",
    "\t•\tIn the two-sum problem, keys represent numbers encountered in the list (nums).\n",
    "\n",
    "3.\tValues:\n",
    "\t•\tCan be of any data type and are associated with keys.\n",
    "\t•\tIn the two-sum problem, values represent indices of the numbers in the list.\n",
    "\n",
    "4.\tInitialization and Access:\n",
    "\t•\tA dictionary is created using curly braces {}.\n",
    "\t•\tYou can add or access elements using square brackets [].\n",
    "\t•\tExample: map = {} initializes an empty dictionary. map[2] = 0 adds a key 2 with value 0.\n",
    "\n",
    "5.\tLookup:\n",
    "\t•\tif key in dictionary: checks if a key is present in the dictionary.\n",
    "    To check if a value exists in a dictionary in Python, we have to use \"x in map.values()\"\n"
   ]
  },
  {
   "cell_type": "markdown",
   "metadata": {},
   "source": [
    "### 349. Intersection of Two Arrays\n",
    "Given two integer arrays nums1 and nums2, return an array of their  intersection. \n",
    "Each element in the result must be unique and you may return the result in any order.\n",
    "\n",
    "\n",
    "Examples\n",
    "\n",
    "Input: nums1 = [1,2,2,1], nums2 = [2,2].      |Output: [2]\n",
    "\n",
    "Input: nums1 = [4,9,5], nums2 = [9,4,9,8,4]  | Output: [9,4]"
   ]
  },
  {
   "cell_type": "code",
   "execution_count": 1,
   "metadata": {},
   "outputs": [],
   "source": [
    "nums1 = [4,9,5, 9]\n",
    "nums2 = [9,4,9,8,4]\n",
    "\n",
    "class Solutions:\n",
    "    def intersection(self,nums1, nums2):\n",
    "        \"\"\"\n",
    "        Find the intersection of two integer arrays and return the result as a list.\n",
    "        Each element in the result must be unique.\n",
    "        Complexity:\n",
    "            - Time: O(n+m)\n",
    "            - Space O(n)\n",
    "        \"\"\"\n",
    "        # Initialize \n",
    "        is_available = {} # Dictionary to record elements from nums1 \n",
    "        result = []     # List to store the unique intersection elements\n",
    "        \n",
    "        # record each element from nums1 in the dictionary ...\n",
    "        for x in nums1:\n",
    "            is_available[x] = 1   # mark value as available\n",
    "\n",
    "        # Iterate over nums2 to find common elements \n",
    "        for x in nums2:\n",
    "\n",
    "            # If element in nums 2 as is available:\n",
    "            if x in is_available and is_available[x] == 1:\n",
    "                result.append(x)        # Add to results\n",
    "                is_available[x] = 0     # Mark as unaveilable\n",
    "\n",
    "        return result\n",
    "    # Aditional explanation. in a Python dictionary, the keys are always unique. \n",
    "    # Each key in a dictionary maps to a single value. If you attempt to assign \n",
    "    # a value to an existing key, the old value associated with that key will be\n",
    "    #  overwritten by the new value. Therefore, each value in nums1 will appear \n",
    "    # only once is is_avaliable. That will guarantee uniqueness of the results\n",
    "\n",
    "    # Alternativelly, we could've used built in set in Python\n",
    "\n",
    "    def intersection_set(self, nums1, nums2):\n",
    "\n",
    "        set1 = set(nums1)\n",
    "        set2 = set(nums2)\n",
    "        return set1 & set2   \n",
    "\n"
   ]
  },
  {
   "cell_type": "markdown",
   "metadata": {},
   "source": [
    "### 350:  Intersection of Two Arrays II\n",
    "\n",
    "Given two integer arrays nums1 and nums2, return an array of their intersection. \n",
    "Each element in the result must appear as many times as it shows in both arrays \n",
    "and you may return the result in any order.\n",
    "\n",
    " \n",
    "\n",
    "Example 1:\n",
    "\n",
    "Input: nums1 = [1,2,2,1], nums2 = [2,2]\n",
    "Output: [2,2]\n",
    "Example 2:\n",
    "\n",
    "Input: nums1 = [4,9,5], nums2 = [9,4,9,8,4]\n",
    "Output: [4,9]\n",
    "Explanation: [9,4] is also accepted."
   ]
  },
  {
   "cell_type": "code",
   "execution_count": 5,
   "metadata": {},
   "outputs": [
    {
     "name": "stdout",
     "output_type": "stream",
     "text": [
      "[4, 9, 9, 10]\n"
     ]
    }
   ],
   "source": [
    "# This solution has a time complexity of O(n * m), since I have a nested loop\n",
    "# the solution bellow is both easier and more efficient\n",
    "\n",
    "class Solution:\n",
    "    def intersect(self, nums1, nums2) -> int:\n",
    "        \"\"\"\n",
    "        This function finds the intersection of two lists, nums1 and nums2, \n",
    "        and return the elements that are common to both lists.\n",
    "        Done by myself =)!!\n",
    "        \"\"\"     \n",
    "        \n",
    "        # Initialize empty list to store the intersection values\n",
    "        results = []\n",
    "        \n",
    "        \n",
    "        # Create a dictionary (nums2_dict) from nums2 using enumerate\n",
    "        # The dictionary maps the index of each element in nums2 to the element itself\n",
    "        # Example: nums2 = [4, 9, 5] -> nums2_dict = {0: 4, 1: 9, 2: 5}\n",
    "\n",
    "        nums2_dict = dict(enumerate(nums2))\n",
    "\n",
    "        # Iterate over each element in nums1\n",
    "        for i in nums1:\n",
    "            \n",
    "            # Initialize/update variable to store the key (index) of the found value\n",
    "            key_found = None\n",
    "            \n",
    "            # Iterate through each key-value pair in the nums2_dict dictionary\n",
    "            for key, value in nums2_dict.items():\n",
    "\n",
    "                # Check if the current value from nums2_dict matches the current element from nums1 (i)\n",
    "                if value == i:\n",
    "\n",
    "                    # If a match is found, store the key of the found value in key_found\n",
    "                    key_found = key\n",
    "                    \n",
    "                     # Append the found value to the results list\n",
    "                    results.append(value)\n",
    "\n",
    "                    # Delete the found key-value pair from nums2_dict to avoid duplicate matches\n",
    "                    del nums2_dict[key_found]\n",
    "\n",
    "                    # Break the inner loop since the value has been found and handled\n",
    "                    break\n",
    "\n",
    "            # Return the list of intersected values    \n",
    "        return results\n",
    "\n",
    "nums1 = [4,9,5,9, 10]\n",
    "nums2 = [9,4,9,8,4,10]            \n",
    "\n",
    "a = Solution().intersect(nums1, nums2)\n",
    "print(a)\n"
   ]
  },
  {
   "cell_type": "code",
   "execution_count": null,
   "metadata": {},
   "outputs": [],
   "source": [
    "class Solution:\n",
    "    def intersect(self, nums1, nums2):\n",
    "        \"\"\"\n",
    "        This function finds the intersection of two lists, nums1 and nums2,\n",
    "        and returns the elements that are common to both lists, including duplicates.\n",
    "        \"\"\"\n",
    "\n",
    "        # 1) Count the ocurrency frequency of nums2 elements\n",
    "        nums2_counts = {}\n",
    "        for num in nums2:\n",
    "            if num in nums2_counts:\n",
    "                nums2_counts[num] = nums2_counts[num] +1\n",
    "            else:\n",
    "                nums2_counts[num] = 1\n",
    "\n",
    "        # Iterate over nums1 and find common elements\n",
    "        results = []\n",
    "        for num in nums1:\n",
    "            # Check if the element is in nums2_counts and has a positive count\n",
    "            if nums2_counts.get(num,0) > 0:\n",
    "                results.append(num) # Add the element to the results list\n",
    "                nums2_counts[i] = nums2_counts[i] -1 # Reduce the count in nums2_counts\n",
    "\n",
    "        return results"
   ]
  },
  {
   "cell_type": "markdown",
   "metadata": {},
   "source": [
    "Note: The .get() method is a built-in function that allows you to retrieve the \n",
    "value for a given key from a dictionary. It provides a safe way to access \n",
    "dictionary values, offering a default value if the key does not exist, which \n",
    "helps prevent common errors in your code.\n",
    "\n",
    "Syntax:\n",
    "\n",
    "`value = my_dict.get(key, default_value)`\n",
    "\n",
    "* key: the key you want to look up in the dictionary\n",
    "* default_value (optional): the value to return if the key is not found (None is\n",
    "the default)"
   ]
  },
  {
   "cell_type": "code",
   "execution_count": null,
   "metadata": {},
   "outputs": [],
   "source": []
  },
  {
   "cell_type": "markdown",
   "metadata": {},
   "source": [
    "nums2_dict.values"
   ]
  },
  {
   "cell_type": "markdown",
   "metadata": {},
   "source": [
    "# 88. Merge Sorted Array\n",
    "\n",
    "You are given two integer arrays nums1 and nums2, sorted in non-decreasing order, and two integers m and n, representing the number of elements in nums1 and nums2 respectively.\n",
    "\n",
    "Merge nums1 and nums2 into a single array sorted in non-decreasing order.\n",
    "\n",
    "The final sorted array should not be returned by the function, but instead be stored inside the array nums1. To accommodate this, nums1 has a length of m + n, where the first m elements denote the elements that should be merged, and the last n elements are set to 0 and should be ignored. nums2 has a length of n.\n",
    "\n",
    " \n",
    "\n",
    "Example 1:\n",
    "\n",
    "Input: nums1 = [1,2,3,0,0,0], m = 3, nums2 = [2,5,6], n = 3\n",
    "Output: [1,2,2,3,5,6]\n",
    "Explanation: The arrays we are merging are [1,2,3] and [2,5,6].\n",
    "The result of the merge is [1,2,2,3,5,6] with the underlined elements coming from nums1."
   ]
  },
  {
   "cell_type": "markdown",
   "metadata": {},
   "source": [
    "#### Brute force (aka real world) solution"
   ]
  },
  {
   "cell_type": "code",
   "execution_count": 6,
   "metadata": {},
   "outputs": [
    {
     "name": "stdout",
     "output_type": "stream",
     "text": [
      "[1, 2, 2, 3, 5, 6]\n"
     ]
    }
   ],
   "source": [
    "nums1 = [1,2,3,0,0,0]\n",
    "m = 3\n",
    "nums2 = [2,5,6]\n",
    "n = 3\n",
    "\n",
    "\n",
    "\n",
    "for i in range(m, m+n):\n",
    "    nums1[i] = nums2[m-i]\n",
    "\n",
    "nums1.sort()\n",
    "\n",
    "print(nums1)\n"
   ]
  },
  {
   "cell_type": "markdown",
   "metadata": {},
   "source": [
    "#### Three Pointers (start from the end)\n",
    "This is the most efficient solution"
   ]
  },
  {
   "cell_type": "code",
   "execution_count": 7,
   "metadata": {},
   "outputs": [
    {
     "name": "stdout",
     "output_type": "stream",
     "text": [
      "[1, 2]\n"
     ]
    }
   ],
   "source": [
    "nums1 = [1,2,3,0,0,0] \n",
    "nums2 = [2,5,6]       \n",
    "m = 3\n",
    "n = 3\n",
    "\n",
    "nums1 = [2,0]\n",
    "m = 1\n",
    "nums2 = [1]\n",
    "n = 1\n",
    "\n",
    "\n",
    "# Initialize read pointers for nums1 and nums2, starting from their end positions.\n",
    "\n",
    "p1 = m-1\n",
    "p2 = n-1\n",
    "\n",
    "# and writer point at the very end of num1\n",
    "p = m+n -1\n",
    "\n",
    "# Continue the loop while there are elements to compare in nums2 (p2 >= 0).\n",
    "# The loop also checks (p >= 0) to ensure we don't go out of bounds in nums1.\n",
    "while (p >= 0) & (p2 >=0) :\n",
    "\n",
    "\n",
    "    if (nums2[p2] > nums1[p1]) | (p1 < 0):\n",
    "        \"\"\"\n",
    "        If the current element in nums2 is greater than the current element in nums1,\n",
    "        OR if all elements from nums1 have been placed and p1 is out of bounds (p1 < 0),\n",
    "         then place the element from nums2 into the current position of nums1.\n",
    "        This handles the case where we have finished processing nums1 but still have\n",
    "         elements left in nums2.\n",
    "        \"\"\"\n",
    "\n",
    "\n",
    "        nums1[p] = nums2[p2]  # Place nums2's element in nums1 at location p.\n",
    "        p2 = p2 - 1           # Move pointer p2 to the left in nums2.\n",
    "    \n",
    "    else:\n",
    "        nums1[p] = nums1[p1] # Place nums1's element p1 in position p in nums1.\n",
    "        p1 = p1 -1           # Move pointer p1 to the left in nums1.\n",
    "    \n",
    "     # Move write pointer `p` to the left to fill the next position.\n",
    "    p = p-1 \n",
    "\n",
    "print(nums1)\n"
   ]
  },
  {
   "cell_type": "markdown",
   "metadata": {},
   "source": [
    "# 238. Product of Array Except Self\n",
    "% Topics: Array, Prefix Sum\n",
    "\n",
    "Given an integer array nums, return an array answer such that answer[i] is equal to the product of all the elements of nums except nums[i].\n",
    "\n",
    "The product of any prefix or suffix of nums is guaranteed to fit in a 32-bit integer.\n",
    "\n",
    "You must write an algorithm that runs in O(n) time and without using the division operation.\n",
    "\n",
    "\n",
    "Example 1:\n",
    "\n",
    "Input: nums = [1,2,3,4]\n",
    "Output: [24,12,8,6]\n",
    "Example 2:\n",
    "\n",
    "Input: nums = [-1,1,0,-3,3]\n",
    "Output: [0,0,9,0,0]\n",
    "\n",
    " "
   ]
  },
  {
   "cell_type": "code",
   "execution_count": 11,
   "metadata": {},
   "outputs": [
    {
     "data": {
      "text/plain": [
       "[0, 0, 9, 0, 0]"
      ]
     },
     "execution_count": 11,
     "metadata": {},
     "output_type": "execute_result"
    }
   ],
   "source": [
    "\n",
    "# A) Brute Force\n",
    "nums = [-1,1,0,-3,3]\n",
    "\n",
    "result = []\n",
    "\n",
    "for i in range(len(nums)):\n",
    "    product = 1\n",
    "    for j in range(len(nums)):\n",
    "        if i != j:\n",
    "            product = product * nums[j]\n",
    "    \n",
    "    result.append(product)"
   ]
  },
  {
   "cell_type": "markdown",
   "metadata": {},
   "source": []
  },
  {
   "cell_type": "markdown",
   "metadata": {},
   "source": [
    "\n",
    "For every given index, i, we will make use of the product of all the numbers to \n",
    "the left of it and multiply it by the product of all the numbers to the right. \n",
    "This will give us the product of all the numbers except the one at the given \n",
    "index i.\n",
    "<img src=\"images/238_left.png\" alt=\"Left\" width=\"450\"/>\n",
    "<img src=\"images/238_right.png\" alt=\"right\" width=\"450\"/>"
   ]
  },
  {
   "cell_type": "markdown",
   "metadata": {},
   "source": []
  },
  {
   "cell_type": "markdown",
   "metadata": {},
   "source": [
    "\n",
    "\n",
    "1. We initialize lists left and right such that we can access and assign new \n",
    "values throughout the loop. THis is a usefull alternative than the usual append\n",
    "\n",
    "2. Notice the second loop:  `for i in range(n - 2, -1, -1)`. This means that we \n",
    "go from n-2 to 0 taking steps of size 1, but in *reverse order*. "
   ]
  },
  {
   "cell_type": "code",
   "execution_count": 39,
   "metadata": {},
   "outputs": [
    {
     "name": "stdout",
     "output_type": "stream",
     "text": [
      "i:1, left:[1, 4, 1, 1, 1, 1, 1], nums:[4, 5, 1, 8, 2, 10, 6] \n",
      "i:2, left:[1, 4, 20, 1, 1, 1, 1], nums:[4, 5, 1, 8, 2, 10, 6] \n",
      "i:3, left:[1, 4, 20, 20, 1, 1, 1], nums:[4, 5, 1, 8, 2, 10, 6] \n",
      "i:4, left:[1, 4, 20, 20, 160, 1, 1], nums:[4, 5, 1, 8, 2, 10, 6] \n",
      "i:5, left:[1, 4, 20, 20, 160, 320, 1], nums:[4, 5, 1, 8, 2, 10, 6] \n",
      "i:6, left:[1, 4, 20, 20, 160, 320, 3200], nums:[4, 5, 1, 8, 2, 10, 6] \n",
      "i:5, right:[1, 1, 1, 1, 1, 6, 1], nums:[4, 5, 1, 8, 2, 10, 6] \n",
      "i:4, right:[1, 1, 1, 1, 60, 6, 1], nums:[4, 5, 1, 8, 2, 10, 6] \n",
      "i:3, right:[1, 1, 1, 120, 60, 6, 1], nums:[4, 5, 1, 8, 2, 10, 6] \n",
      "i:2, right:[1, 1, 960, 120, 60, 6, 1], nums:[4, 5, 1, 8, 2, 10, 6] \n",
      "i:1, right:[1, 960, 960, 120, 60, 6, 1], nums:[4, 5, 1, 8, 2, 10, 6] \n",
      "i:0, right:[4800, 960, 960, 120, 60, 6, 1], nums:[4, 5, 1, 8, 2, 10, 6] \n",
      "answer: [4800, 3840, 19200, 2400, 9600, 1920, 3200]\n"
     ]
    }
   ],
   "source": [
    "# Left and Right Products\n",
    "nums = [4, 5, 1, 8, 2, 10, 6]\n",
    "n = len(nums)\n",
    "\n",
    "left = [1] * n\n",
    "right = [1] * n\n",
    "\n",
    "for i in range(1, n): \n",
    "    left[i] = left[i - 1] * nums[i - 1]\n",
    "    #print(f\"i:{i}, left:{left}, nums:{nums} \")\n",
    "\n",
    "for i in range(n - 2, -1, -1):\n",
    "    right[i] = right[i + 1] * nums[i + 1]\n",
    "    #print(f\"i:{i}, right:{right}, nums:{nums} \")\n",
    "\n",
    "answer = [left[i] * right[i] for i in range(n)]\n",
    "\n",
    "print(f\"answer: {answer}\")\n"
   ]
  },
  {
   "cell_type": "markdown",
   "metadata": {},
   "source": [
    "# 7. Reverse Integer\n",
    "\n",
    "Theme: math.\n",
    "Given a signed 32-bit integer x, return x with its digits reversed. If reversing \n",
    "x causes the value to go outside the signed 32-bit integer range [-231, 231 - 1],\n",
    "then return 0.\n",
    "\n",
    "* Example 1: Input: x = 123. | Output: 321\n",
    "\n",
    "* Example 2:  Input: x = -123 | Output: -321\n",
    "\n",
    "* Example 3: Input: x = 120 | Output: 21"
   ]
  },
  {
   "cell_type": "code",
   "execution_count": 102,
   "metadata": {},
   "outputs": [
    {
     "data": {
      "text/plain": [
       "-234"
      ]
     },
     "execution_count": 102,
     "metadata": {},
     "output_type": "execute_result"
    }
   ],
   "source": [
    "class Solution:\n",
    "    def reverse(self, x:int) -> int:\n",
    "        if x > 0:\n",
    "            x_str = str(x)\n",
    "            x_str = x_str[::-1]\n",
    "            x_rvd = int(x_str)\n",
    "        else:\n",
    "            x_str = str(x*(-1))\n",
    "            x_str = x_str[::-1]\n",
    "            x_rvd = int(x_str)*(-1)\n",
    "\n",
    "        return x_rvd if x_rvd > (-2**31) and x_rvd < 2 ** 31 else 0\n",
    "\n",
    "x = -432\n",
    "\n",
    "Solution().reverse(x)"
   ]
  },
  {
   "cell_type": "markdown",
   "metadata": {},
   "source": [
    "### Slicing in Python\n",
    "\n",
    "Notice that we use the slice [::-1] in the solution above. Here is a quick \n",
    "summary of slicing in Python:\n",
    "\n",
    "Slicing allows you to access a subset of elements from sequences such as strings, \n",
    "lists, tuples, and other objects that support the sequence protocol.\n",
    "\n",
    "#### Basic Syntax\n",
    "`sequence[start:stop:step]``\n",
    "\t• start: The index where the slice starts (inclusive). If omitted, the \n",
    "\tslice starts from the beginning.\n",
    "\t• stop: The index where the slice ends (exclusive). If omitted, the slice \n",
    "\tgoes up to the end of the sequence.\n",
    "\t• step: The step size or stride. If omitted, it defaults to 1. A negative\n",
    "\t step reverses the direction.\n",
    "\n",
    "`my_list = [0, 1, 2, 3, 4, 5]`\n",
    "\n",
    "1. Basic Slicing\t\n",
    "\t* `slice1 = my_list[1:4]`  \n",
    "\tOutput: [1, 2, 3 ]\n",
    "\n",
    "2. Omitting start or stop\n",
    "\t* `slice2 = my_list[:3]`  \n",
    "\t Output: [0, 1, 2]\n",
    "\t* `slice3 = my_list[3:]`  \n",
    "\t Output: [3, 4, 5]\n",
    "\n",
    "3. Using steps to control the stride\n",
    "\t* Every second elevent\n",
    "\t`slice5 = my_list[::2]`\n",
    "\tOutput: [0, 2, 4]\n",
    "\n",
    "4. Steps = -1 to reverse the sequence\n",
    "\t* `reversed_list = my_list[::-1]`  \n",
    "\toutputs [5, 4, 3, 2, 1, 0]"
   ]
  },
  {
   "cell_type": "markdown",
   "metadata": {},
   "source": [
    "####  9. Palindrome Number\n",
    "Given an integer x, return true if x is a \n",
    "palindrome, and false otherwise.\n",
    "\n",
    "Input: x = 121 | Output: true\n",
    "Explanation: 121 reads as 121 from left to right and from right to left.\n",
    "\n",
    "\n",
    "Input: x = -121 | Output: false\n",
    "Explanation: From left to right, it reads -121. From right to left, it becomes 121-. Therefore it is not a palindrome."
   ]
  },
  {
   "cell_type": "code",
   "execution_count": 152,
   "metadata": {},
   "outputs": [
    {
     "name": "stdout",
     "output_type": "stream",
     "text": [
      "Not a palindrome!\n"
     ]
    }
   ],
   "source": [
    "class Solution:\n",
    "    def isPalindrome(self, x:int) -> bool:\n",
    "        x_str = str(x)\n",
    "        x_rvd = x_str[::-1]\n",
    "        x_rvd\n",
    "\n",
    "        if x_rvd == x_str:\n",
    "            return True\n",
    "        else:\n",
    "            return False\n",
    "\n",
    "\n"
   ]
  },
  {
   "cell_type": "markdown",
   "metadata": {},
   "source": []
  },
  {
   "cell_type": "code",
   "execution_count": null,
   "metadata": {},
   "outputs": [],
   "source": [
    "def isPossible(self, A):\n",
    "    \"\"\"\n",
    "    Determines if it's possible to split the sorted integer array 'A' into one or more subsequences\n",
    "    such that each subsequence is a consecutive increasing sequence of length at least 3.\n",
    "\n",
    "    Parameters:\n",
    "    - A: List[int] - A sorted list of integers.\n",
    "\n",
    "    Returns:\n",
    "    - bool: True if possible to split as per the conditions, False otherwise.\n",
    "    \"\"\"\n",
    "    import collections  # Import the 'collections' module to use 'Counter'.\n",
    "\n",
    "    # 'left' counts the number of times each number appears in 'A'.\n",
    "    # It represents the numbers that are still available to be placed in subsequences.\n",
    "    left = collections.Counter(A)\n",
    "\n",
    "    # 'end' counts the number of subsequences ending with a specific number.\n",
    "    # It helps track subsequences that can be extended.\n",
    "    end = collections.Counter()\n",
    "\n",
    "    # Iterate over each number 'i' in the array 'A'.\n",
    "    for i in A:\n",
    "        # If 'i' has already been used up in subsequences, skip it.\n",
    "        if not left[i]:\n",
    "            continue\n",
    "\n",
    "        # Use one occurrence of 'i'.\n",
    "        left[i] -= 1\n",
    "\n",
    "        # Check if there's a subsequence ending with 'i - 1' that can be extended.\n",
    "        if end[i - 1] > 0:\n",
    "            # Decrement the count of subsequences ending with 'i - 1'.\n",
    "            end[i - 1] -= 1\n",
    "            # Increment the count of subsequences now ending with 'i'.\n",
    "            end[i] += 1\n",
    "        # If no such subsequence exists, try to create a new subsequence [i, i+1, i+2].\n",
    "        elif left[i + 1] > 0 and left[i + 2] > 0:\n",
    "            # Use one occurrence of 'i + 1'.\n",
    "            left[i + 1] -= 1\n",
    "            # Use one occurrence of 'i + 2'.\n",
    "            left[i + 2] -= 1\n",
    "            # Increment the count of subsequences ending with 'i + 2'.\n",
    "            end[i + 2] += 1\n",
    "        else:\n",
    "            # Cannot place 'i' in any subsequence as per the rules.\n",
    "            return False  # Early exit since the conditions cannot be met.\n",
    "\n",
    "    # All numbers have been placed successfully in valid subsequences.\n",
    "    return True"
   ]
  },
  {
   "cell_type": "markdown",
   "metadata": {},
   "source": [
    "### 659. Split Array into Consecutive Subsequences\n",
    "https://leetcode.com/problems/split-array-into-consecutive-subsequences/description/?envType=company&envId=google&favoriteSlug=google-all&difficulty=EASY%2CMEDIUM&role=data-scientist-data-engineer\n",
    "\n",
    "Medium / hard\n",
    "\n",
    "You are given an integer array nums that is **sorted in non-decreasing order.**\n",
    "\n",
    "Determine if it is possible to split nums into **one or more subsequences** such\n",
    "that both of the following conditions are true:\n",
    "\n",
    "1. Each subsequence is a consecutive increasing sequence (i.e. each integer is \n",
    "exactly one more than the previous integer).\n",
    "2. All subsequences have a length of 3 or **more**.\n",
    "\n",
    "Return true if you can split nums according to the above conditions, or false\n",
    "otherwise.\n",
    "\n",
    "A **subsequence** of an array is a new array that is formed from the original\n",
    "array by deleting some (can be none) of the elements without disturbing the \n",
    "relative positions of the remaining elements. (i.e., [1,3,5] is a subsequence of\n",
    " [1,2,3,4,5] while [1,3,2] is not)."
   ]
  },
  {
   "cell_type": "markdown",
   "metadata": {},
   "source": [
    "<img src=\"images/659_1.png\" alt=\"Left\" width=\"450\"/>\n",
    "<img src=\"images/659_2.png\" alt=\"right\" width=\"450\"/>\n",
    "<img src=\"images/659_3.png\" alt=\"right\" width=\"450\"/>\n",
    "<img src=\"images/659_4.png\" alt=\"right\" width=\"450\"/>\n",
    "<img src=\"images/659_5.png\" alt=\"right\" width=\"450\"/>"
   ]
  },
  {
   "cell_type": "code",
   "execution_count": 12,
   "metadata": {},
   "outputs": [],
   "source": [
    "def isPossible(self, nums):\n",
    "    \"\"\"\n",
    "    Determines if it's possible to split the sorted integer array 'nums' into one or more subsequences\n",
    "    such that each subsequence is a consecutive increasing sequence of length at least 3.\n",
    "\n",
    "    Parameters:\n",
    "    - nums: List[int] - nums sorted list of integers.\n",
    "\n",
    "    Returns:\n",
    "    - bool: True if possible to split as per the conditions, False otherwise.\n",
    "    \"\"\"\n",
    "    import collections  # Import the 'collections' module to use 'Counter'.\n",
    "\n",
    "    # 'frequency_map' counts the number of times each number appears in 'nums'.\n",
    "    # It represents the numbers that are still available to be placed in subsequences.\n",
    "    frequency_map = collections.Counter(nums)\n",
    "\n",
    "    # 'end' counts the number of subsequences ending with a specific number.\n",
    "    # It helps track subsequences that can be extended.\n",
    "    subsequence_map = collections.Counter()\n",
    "\n",
    "    # Iterate over each number 'i' in the array 'nums'.\n",
    "    for i in nums:\n",
    "        # If 'i' has already been used up in subsequences, skip it.\n",
    "        if not frequency_map[i]:\n",
    "            continue\n",
    "        \n",
    "        frequency_map[i] -= 1    # Use one occurrence of 'i'.\n",
    "\n",
    "        # Check if there's a subsequence ending with 'i - 1' that can be extended.\n",
    "        if subsequence_map[i - 1] > 0:\n",
    "            subsequence_map[i - 1] -= 1 # Decrement the count of subsequences ending with 'i - 1'.\n",
    "            subsequence_map[i] += 1      # Increment the count of subsequences now ending with 'i'.\n",
    "\n",
    "        # If no such subsequence exists, try to create a new subsequence [i, i+1, i+2].\n",
    "        elif frequency_map[i + 1] > 0 and frequency_map[i + 2] > 0:\n",
    "            frequency_map[i + 1] -= 1 # Use one occurrence of 'i + 1' \n",
    "            frequency_map[i + 2] -= 1 # Use one occurrence of 'i + 2'\n",
    "            subsequence_map[i + 2] += 1 # Increment the count of subsequences ending with 'i + 2'.\n",
    "\n",
    "        else:\n",
    "            # Cannot place 'i' in any subsequence as per the rules.\n",
    "            return False  # Early exit since the conditions cannot be met.\n",
    "\n",
    "    # All numbers have been placed successfully in valid subsequences.\n",
    "    return True"
   ]
  },
  {
   "cell_type": "code",
   "execution_count": 14,
   "metadata": {},
   "outputs": [
    {
     "data": {
      "text/plain": [
       "Counter({3: 2, 4: 2, 5: 2, 1: 1, 2: 1})"
      ]
     },
     "execution_count": 14,
     "metadata": {},
     "output_type": "execute_result"
    }
   ],
   "source": [
    "import collections\n",
    "nums = [1,2,3,3,4,4,5,5]\n",
    "frequency_map = collections.Counter(nums)\n",
    "frequency_map"
   ]
  },
  {
   "cell_type": "code",
   "execution_count": 17,
   "metadata": {},
   "outputs": [],
   "source": [
    "i = 1\n",
    "\n",
    "frequency_map[i] -= 1\n",
    "\n",
    "\n"
   ]
  },
  {
   "cell_type": "code",
   "execution_count": 19,
   "metadata": {},
   "outputs": [],
   "source": [
    "frequency_map[i + 1] -= 1 # Use one occurrence of 'i + 1' \n",
    "frequency_map[i + 2] -= 1 # Use one occurrence of 'i + 2'\n",
    "subsequence_map[i + 2] += 1 # Increment the count of subsequences ending with 'i + 2'."
   ]
  },
  {
   "cell_type": "code",
   "execution_count": 20,
   "metadata": {},
   "outputs": [
    {
     "data": {
      "text/plain": [
       "Counter({4: 2, 5: 2, 3: 1, 1: 0, 2: 0})"
      ]
     },
     "execution_count": 20,
     "metadata": {},
     "output_type": "execute_result"
    }
   ],
   "source": [
    "frequency_map"
   ]
  },
  {
   "cell_type": "code",
   "execution_count": 21,
   "metadata": {},
   "outputs": [
    {
     "data": {
      "text/plain": [
       "Counter({3: 1})"
      ]
     },
     "execution_count": 21,
     "metadata": {},
     "output_type": "execute_result"
    }
   ],
   "source": [
    "subsequence_map"
   ]
  }
 ],
 "metadata": {
  "kernelspec": {
   "display_name": ".venv",
   "language": "python",
   "name": "python3"
  },
  "language_info": {
   "codemirror_mode": {
    "name": "ipython",
    "version": 3
   },
   "file_extension": ".py",
   "mimetype": "text/x-python",
   "name": "python",
   "nbconvert_exporter": "python",
   "pygments_lexer": "ipython3",
   "version": "3.12.5"
  }
 },
 "nbformat": 4,
 "nbformat_minor": 2
}
