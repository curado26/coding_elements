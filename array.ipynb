{
 "cells": [
  {
   "cell_type": "code",
   "execution_count": null,
   "metadata": {},
   "outputs": [],
   "source": []
  },
  {
   "cell_type": "markdown",
   "metadata": {},
   "source": [
    "# LEET CODE 1. Two Sum\n",
    "\n",
    "Given an array of integers nums and an integer target, return indices of the two numbers such that they add up to target.\n",
    "\n",
    "You may assume that each input would have exactly one solution, and you may not use the same element twice.\n",
    "\n",
    "You can return the answer in any order.\n",
    "Example 1:\n",
    "\n",
    "Input: nums = [2,7,11,15], target = 9\n",
    "Output: [0,1]\n",
    "Explanation: Because nums[0] + nums[1] == 9, we return [0, 1]."
   ]
  },
  {
   "cell_type": "code",
   "execution_count": 2,
   "metadata": {},
   "outputs": [],
   "source": [
    "nums = [2,7,11,15]\n",
    "target = 9"
   ]
  },
  {
   "cell_type": "markdown",
   "metadata": {},
   "source": [
    "### Brute Force Solution"
   ]
  },
  {
   "cell_type": "code",
   "execution_count": 3,
   "metadata": {},
   "outputs": [
    {
     "name": "stdout",
     "output_type": "stream",
     "text": [
      "[0, 1]\n"
     ]
    }
   ],
   "source": [
    "def twoSum(nums, target):\n",
    "\n",
    "    for i in range(0,len(nums)):\n",
    "        for j in range(i+1, len(nums)):\n",
    "\n",
    "            y = nums[i] + nums[j]\n",
    "\n",
    "            if y == target:\n",
    "                result = [i,j]\n",
    "                return result\n",
    "\n",
    "result = twoSum(nums, target)\n",
    "print(result)"
   ]
  },
  {
   "cell_type": "markdown",
   "metadata": {},
   "source": [
    "# Hashmap\n",
    "\n",
    "A HashMap is a data structure that provides an efficient way to store and retrieve **key-value pairs**.\n",
    "\n",
    "\t1.\tEfficiency:\n",
    "\t    •\tHashMaps offer efficient data storage and retrieval, which is critical in many data science tasks like counting frequencies, aggregating data, and performing quick lookups.\n",
    "\t2.\tCommon Interview Problems:\n",
    "\t    •\tMany coding interview questions in data science can be solved more efficiently with HashMaps. Examples include:\n",
    "\t    •\tCounting occurrences (e.g., word count).\n",
    "\t    •\tFinding duplicates.\n",
    "\t    •\tTwo-sum problem (checking if two numbers add up to a target).\n",
    "\t    •\tGrouping and aggregating data based on keys."
   ]
  },
  {
   "cell_type": "code",
   "execution_count": 4,
   "metadata": {},
   "outputs": [
    {
     "data": {
      "text/plain": [
       "(0, 1)"
      ]
     },
     "execution_count": 4,
     "metadata": {},
     "output_type": "execute_result"
    }
   ],
   "source": [
    "def twoSum_hashmap(nums, target):\n",
    "    \n",
    "    map = {} # Initialize and empty Dictionary\n",
    "    \n",
    "    # Iterate through each element in the nums list\n",
    "    for i in range(len(nums)):\n",
    "\n",
    "        complement = target - nums[i] # the value we need to find in the list\n",
    "\n",
    "        # checks if the value of complement exists as a key in the dictionary map.\n",
    "        if complement in map:\n",
    "            return (   map[complement], i  )\n",
    "        \n",
    "        #Update the map dictionary\n",
    "        map[nums[i]] = i # add the current number (nums[i]) as the key and index (i) as the value\n",
    "\n",
    "    return [] \n",
    "\n",
    "twoSum_hashmap(nums, target)"
   ]
  },
  {
   "cell_type": "markdown",
   "metadata": {},
   "source": [
    "### A quick note on dictionaries in Python\n",
    "\n",
    "A dictionary in Python is a built-in data structure that stores data as key-value pairs. Key concepts:\n",
    "\n",
    "1.\tKey-Value Pairs:\n",
    "\t•\tEach element in a dictionary is stored as a pair consisting of a unique key and an associated value.\n",
    "\t•\tExample: {\"apple\": 3, \"banana\": 5} — Here, \"apple\" and \"banana\" are keys, and 3 and 5 are their corresponding values.\n",
    "\n",
    "2.\tKeys:\n",
    "\t•\tMust be unique and immutable (e.g., strings, numbers, or tuples).\n",
    "\t•\tUsed to access the corresponding value efficiently.\n",
    "\t•\tIn the two-sum problem, keys represent numbers encountered in the list (nums).\n",
    "\n",
    "3.\tValues:\n",
    "\t•\tCan be of any data type and are associated with keys.\n",
    "\t•\tIn the two-sum problem, values represent indices of the numbers in the list.\n",
    "\n",
    "4.\tInitialization and Access:\n",
    "\t•\tA dictionary is created using curly braces {}.\n",
    "\t•\tYou can add or access elements using square brackets [].\n",
    "\t•\tExample: map = {} initializes an empty dictionary. map[2] = 0 adds a key 2 with value 0.\n",
    "\n",
    "5.\tLookup:\n",
    "\t•\tif key in dictionary: checks if a key is present in the dictionary.\n",
    "    To check if a value exists in a dictionary in Python, we have to use \"x in map.values()\"\n"
   ]
  },
  {
   "cell_type": "markdown",
   "metadata": {},
   "source": [
    "# LeetCode 350:  Intersection of Two Arrays II\n",
    "\n",
    "Given two integer arrays nums1 and nums2, return an array of their intersection. Each element in the result must appear as many times as it shows in both arrays and you may return the result in any order.\n",
    "\n",
    " \n",
    "\n",
    "Example 1:\n",
    "\n",
    "Input: nums1 = [1,2,2,1], nums2 = [2,2]\n",
    "Output: [2,2]\n",
    "Example 2:\n",
    "\n",
    "Input: nums1 = [4,9,5], nums2 = [9,4,9,8,4]\n",
    "Output: [4,9]\n",
    "Explanation: [9,4] is also accepted."
   ]
  },
  {
   "cell_type": "code",
   "execution_count": 5,
   "metadata": {},
   "outputs": [
    {
     "name": "stdout",
     "output_type": "stream",
     "text": [
      "[4, 9, 9, 10]\n"
     ]
    }
   ],
   "source": [
    "class Solution:\n",
    "    def intersect(self, nums1, nums2) -> int:\n",
    "        \"\"\"\n",
    "        This function finds the intersection of two lists, nums1 and nums2, \n",
    "        and return the elements that are common to both lists.\n",
    "        Done by myself =)!!\n",
    "        \"\"\"     \n",
    "        \n",
    "        # Initialize empty list to store the intersection values\n",
    "        results = []\n",
    "        \n",
    "        \n",
    "        # Create a dictionary (nums2_dict) from nums2 using enumerate\n",
    "        # The dictionary maps the index of each element in nums2 to the element itself\n",
    "        # Example: nums2 = [4, 9, 5] -> nums2_dict = {0: 4, 1: 9, 2: 5}\n",
    "\n",
    "        nums2_dict = dict(enumerate(nums2))\n",
    "\n",
    "        # Iterate over each element in nums1\n",
    "        for i in nums1:\n",
    "            \n",
    "            # Initialize/update variable to store the key (index) of the found value\n",
    "            key_found = None\n",
    "            \n",
    "            # Iterate through each key-value pair in the nums2_dict dictionary\n",
    "            for key, value in nums2_dict.items():\n",
    "\n",
    "                # Check if the current value from nums2_dict matches the current element from nums1 (i)\n",
    "                if value == i:\n",
    "\n",
    "                    # If a match is found, store the key of the found value in key_found\n",
    "                    key_found = key\n",
    "                    \n",
    "                     # Append the found value to the results list\n",
    "                    results.append(value)\n",
    "\n",
    "                    # Delete the found key-value pair from nums2_dict to avoid duplicate matches\n",
    "                    del nums2_dict[key_found]\n",
    "\n",
    "                    # Break the inner loop since the value has been found and handled\n",
    "                    break\n",
    "\n",
    "            # Return the list of intersected values    \n",
    "        return results\n",
    "\n",
    "nums1 = [4,9,5,9, 10]\n",
    "nums2 = [9,4,9,8,4,10]            \n",
    "\n",
    "a = Solution().intersect(nums1, nums2)\n",
    "print(a)\n"
   ]
  },
  {
   "cell_type": "markdown",
   "metadata": {},
   "source": [
    "nums2_dict.values"
   ]
  },
  {
   "cell_type": "markdown",
   "metadata": {},
   "source": [
    "# 88. Merge Sorted Array\n",
    "\n",
    "You are given two integer arrays nums1 and nums2, sorted in non-decreasing order, and two integers m and n, representing the number of elements in nums1 and nums2 respectively.\n",
    "\n",
    "Merge nums1 and nums2 into a single array sorted in non-decreasing order.\n",
    "\n",
    "The final sorted array should not be returned by the function, but instead be stored inside the array nums1. To accommodate this, nums1 has a length of m + n, where the first m elements denote the elements that should be merged, and the last n elements are set to 0 and should be ignored. nums2 has a length of n.\n",
    "\n",
    " \n",
    "\n",
    "Example 1:\n",
    "\n",
    "Input: nums1 = [1,2,3,0,0,0], m = 3, nums2 = [2,5,6], n = 3\n",
    "Output: [1,2,2,3,5,6]\n",
    "Explanation: The arrays we are merging are [1,2,3] and [2,5,6].\n",
    "The result of the merge is [1,2,2,3,5,6] with the underlined elements coming from nums1."
   ]
  },
  {
   "cell_type": "markdown",
   "metadata": {},
   "source": [
    "#### Brute force (aka real world) solution"
   ]
  },
  {
   "cell_type": "code",
   "execution_count": 6,
   "metadata": {},
   "outputs": [
    {
     "name": "stdout",
     "output_type": "stream",
     "text": [
      "[1, 2, 2, 3, 5, 6]\n"
     ]
    }
   ],
   "source": [
    "nums1 = [1,2,3,0,0,0]\n",
    "m = 3\n",
    "nums2 = [2,5,6]\n",
    "n = 3\n",
    "\n",
    "\n",
    "\n",
    "for i in range(m, m+n):\n",
    "    nums1[i] = nums2[m-i]\n",
    "\n",
    "nums1.sort()\n",
    "\n",
    "print(nums1)\n"
   ]
  },
  {
   "cell_type": "markdown",
   "metadata": {},
   "source": [
    "#### Three Pointers (start from the end)\n",
    "This is the most efficient solution"
   ]
  },
  {
   "cell_type": "code",
   "execution_count": 7,
   "metadata": {},
   "outputs": [
    {
     "name": "stdout",
     "output_type": "stream",
     "text": [
      "[1, 2]\n"
     ]
    }
   ],
   "source": [
    "nums1 = [1,2,3,0,0,0] \n",
    "nums2 = [2,5,6]       \n",
    "m = 3\n",
    "n = 3\n",
    "\n",
    "nums1 = [2,0]\n",
    "m = 1\n",
    "nums2 = [1]\n",
    "n = 1\n",
    "\n",
    "\n",
    "# Initialize read pointers for nums1 and nums2, starting from their end positions.\n",
    "\n",
    "p1 = m-1\n",
    "p2 = n-1\n",
    "\n",
    "# and writer point at the very end of num1\n",
    "p = m+n -1\n",
    "\n",
    "# Continue the loop while there are elements to compare in nums2 (p2 >= 0).\n",
    "# The loop also checks (p >= 0) to ensure we don't go out of bounds in nums1.\n",
    "while (p >= 0) & (p2 >=0) :\n",
    "\n",
    "\n",
    "    if (nums2[p2] > nums1[p1]) | (p1 < 0):\n",
    "        \"\"\"\n",
    "        If the current element in nums2 is greater than the current element in nums1,\n",
    "        OR if all elements from nums1 have been placed and p1 is out of bounds (p1 < 0),\n",
    "         then place the element from nums2 into the current position of nums1.\n",
    "        This handles the case where we have finished processing nums1 but still have\n",
    "         elements left in nums2.\n",
    "        \"\"\"\n",
    "\n",
    "\n",
    "        nums1[p] = nums2[p2]  # Place nums2's element in nums1 at location p.\n",
    "        p2 = p2 - 1           # Move pointer p2 to the left in nums2.\n",
    "    \n",
    "    else:\n",
    "        nums1[p] = nums1[p1] # Place nums1's element p1 in position p in nums1.\n",
    "        p1 = p1 -1           # Move pointer p1 to the left in nums1.\n",
    "    \n",
    "     # Move write pointer `p` to the left to fill the next position.\n",
    "    p = p-1 \n",
    "\n",
    "print(nums1)\n"
   ]
  },
  {
   "cell_type": "markdown",
   "metadata": {},
   "source": [
    "#### 4. Median of Two Sorted Arrays  - Hard\n",
    "\n",
    "Given two sorted arrays nums1 and nums2 of size m and n respectively, return the median of the two sorted arrays.\n",
    "\n",
    "The overall run time complexity should be O(log (m+n)).\n",
    "\n",
    "Example 1:\n",
    "\n",
    "Input: nums1 = [1,3], nums2 = [2]\n",
    "Output: 2.00000\n",
    "Explanation: merged array = [1,2,3] and median is 2."
   ]
  },
  {
   "cell_type": "markdown",
   "metadata": {},
   "source": [
    "nums1 = [1,3]\n",
    "nums2 = [2]\n",
    "\n"
   ]
  },
  {
   "cell_type": "code",
   "execution_count": 8,
   "metadata": {},
   "outputs": [
    {
     "data": {
      "text/plain": [
       "2"
      ]
     },
     "execution_count": 8,
     "metadata": {},
     "output_type": "execute_result"
    }
   ],
   "source": [
    "nums1 = [1,3]\n",
    "nums2 = [2]\n",
    "\n",
    "nums1.extend(nums2)\n",
    "nums1.sort()\n",
    "\n",
    "if len(nums1) % 2 == 0: # even\n",
    "    index = int(len(nums1)/2 - 1)\n",
    "    \n",
    "    median = (nums1[index] + nums1[index+1])/2\n",
    "else:\n",
    "    index = round(len(nums1)/2) -1\n",
    "    median = nums1[index]\n",
    "\n",
    "median"
   ]
  },
  {
   "cell_type": "code",
   "execution_count": 9,
   "metadata": {},
   "outputs": [
    {
     "data": {
      "text/plain": [
       "9"
      ]
     },
     "execution_count": 9,
     "metadata": {},
     "output_type": "execute_result"
    }
   ],
   "source": [
    "nums1 = [1,2,3,4,5]\n",
    "nums2 = [6,7,8,9,10,11,12,13,14,15,16,17]\n",
    "nums1.extend(nums2)\n",
    "nums1.sort()\n",
    "\n",
    "if len(nums1) % 2 == 0: # even\n",
    "    index = int(len(nums1)/2 - 1)\n",
    "    \n",
    "    median = (nums1[index] + nums1[index+1])/2\n",
    "else:\n",
    "    index = len(nums1) // 2\n",
    "    median = nums1[index]\n",
    "\n",
    "median"
   ]
  },
  {
   "cell_type": "code",
   "execution_count": 10,
   "metadata": {},
   "outputs": [
    {
     "name": "stdout",
     "output_type": "stream",
     "text": [
      " First example: 3 elements: 1 \n",
      " Second example: 17 elements: 8 \n"
     ]
    }
   ],
   "source": [
    "nums1 = [1,3]\n",
    "nums2 = [2]\n",
    "nums1.extend(nums2)\n",
    "\n",
    "print(f\" First example: 3 elements: {len(nums1) // 2} \")\n",
    "\n",
    "nums1 = [1,2,3,4,5]\n",
    "nums2 = [6,7,8,9,10,11,12,13,14,15,16,17]\n",
    "nums1.extend(nums2)\n",
    "\n",
    "print(f\" Second example: 17 elements: {len(nums1)// 2} \")\n"
   ]
  },
  {
   "cell_type": "markdown",
   "metadata": {},
   "source": [
    "# 238. Product of Array Except Self\n",
    "% Topics: Array, Prefix Sum\n",
    "\n",
    "Given an integer array nums, return an array answer such that answer[i] is equal to the product of all the elements of nums except nums[i].\n",
    "\n",
    "The product of any prefix or suffix of nums is guaranteed to fit in a 32-bit integer.\n",
    "\n",
    "You must write an algorithm that runs in O(n) time and without using the division operation.\n",
    "\n",
    "\n",
    "Example 1:\n",
    "\n",
    "Input: nums = [1,2,3,4]\n",
    "Output: [24,12,8,6]\n",
    "Example 2:\n",
    "\n",
    "Input: nums = [-1,1,0,-3,3]\n",
    "Output: [0,0,9,0,0]\n",
    "\n",
    " "
   ]
  },
  {
   "cell_type": "code",
   "execution_count": 11,
   "metadata": {},
   "outputs": [
    {
     "data": {
      "text/plain": [
       "[0, 0, 9, 0, 0]"
      ]
     },
     "execution_count": 11,
     "metadata": {},
     "output_type": "execute_result"
    }
   ],
   "source": [
    "\n",
    "# A) Brute Force\n",
    "nums = [-1,1,0,-3,3]\n",
    "\n",
    "result = []\n",
    "\n",
    "for i in range(len(nums)):\n",
    "    product = 1\n",
    "    for j in range(len(nums)):\n",
    "        if i != j:\n",
    "            product = product * nums[j]\n",
    "    \n",
    "    result.append(product)"
   ]
  },
  {
   "cell_type": "markdown",
   "metadata": {},
   "source": [
    "<img src=\"images/238_left.png\" alt=\"Left\" width=\"450\"/>\n",
    "<img src=\"images/238_right.png\" alt=\"right\" width=\"450\"/>"
   ]
  },
  {
   "cell_type": "markdown",
   "metadata": {},
   "source": []
  },
  {
   "cell_type": "markdown",
   "metadata": {},
   "source": []
  },
  {
   "cell_type": "code",
   "execution_count": 39,
   "metadata": {},
   "outputs": [
    {
     "name": "stdout",
     "output_type": "stream",
     "text": [
      "i:1, left:[1, 4, 1, 1, 1, 1, 1], nums:[4, 5, 1, 8, 2, 10, 6] \n",
      "i:2, left:[1, 4, 20, 1, 1, 1, 1], nums:[4, 5, 1, 8, 2, 10, 6] \n",
      "i:3, left:[1, 4, 20, 20, 1, 1, 1], nums:[4, 5, 1, 8, 2, 10, 6] \n",
      "i:4, left:[1, 4, 20, 20, 160, 1, 1], nums:[4, 5, 1, 8, 2, 10, 6] \n",
      "i:5, left:[1, 4, 20, 20, 160, 320, 1], nums:[4, 5, 1, 8, 2, 10, 6] \n",
      "i:6, left:[1, 4, 20, 20, 160, 320, 3200], nums:[4, 5, 1, 8, 2, 10, 6] \n",
      "i:5, right:[1, 1, 1, 1, 1, 6, 1], nums:[4, 5, 1, 8, 2, 10, 6] \n",
      "i:4, right:[1, 1, 1, 1, 60, 6, 1], nums:[4, 5, 1, 8, 2, 10, 6] \n",
      "i:3, right:[1, 1, 1, 120, 60, 6, 1], nums:[4, 5, 1, 8, 2, 10, 6] \n",
      "i:2, right:[1, 1, 960, 120, 60, 6, 1], nums:[4, 5, 1, 8, 2, 10, 6] \n",
      "i:1, right:[1, 960, 960, 120, 60, 6, 1], nums:[4, 5, 1, 8, 2, 10, 6] \n",
      "i:0, right:[4800, 960, 960, 120, 60, 6, 1], nums:[4, 5, 1, 8, 2, 10, 6] \n",
      "answer: [4800, 3840, 19200, 2400, 9600, 1920, 3200]\n"
     ]
    }
   ],
   "source": [
    "# Left and Right Products\n",
    "nums = [4, 5, 1, 8, 2, 10, 6]\n",
    "n = len(nums)\n",
    "\n",
    "left = [1] * n\n",
    "right = [1] * n\n",
    "\n",
    "for i in range(1, n):\n",
    "    \n",
    "    left[i] = left[i - 1] * nums[i - 1]\n",
    "    print(f\"i:{i}, left:{left}, nums:{nums} \")\n",
    "\n",
    "for i in range(n - 2, -1, -1):\n",
    "    right[i] = right[i + 1] * nums[i + 1]\n",
    "    print(f\"i:{i}, right:{right}, nums:{nums} \")\n",
    "\n",
    "answer = [left[i] * right[i] for i in range(n)]\n",
    "\n",
    "print(f\"answer: {answer}\")\n"
   ]
  },
  {
   "cell_type": "code",
   "execution_count": 43,
   "metadata": {},
   "outputs": [
    {
     "data": {
      "text/plain": [
       "[1, 1, 1, 1, 4, 1, 1]"
      ]
     },
     "execution_count": 43,
     "metadata": {},
     "output_type": "execute_result"
    }
   ],
   "source": [
    "a = [1] * n\n",
    "\n",
    "a[4] = 4\n",
    "a"
   ]
  },
  {
   "cell_type": "code",
   "execution_count": 25,
   "metadata": {},
   "outputs": [
    {
     "ename": "IndexError",
     "evalue": "list assignment index out of range",
     "output_type": "error",
     "traceback": [
      "\u001b[0;31m---------------------------------------------------------------------------\u001b[0m",
      "\u001b[0;31mIndexError\u001b[0m                                Traceback (most recent call last)",
      "Cell \u001b[0;32mIn[25], line 2\u001b[0m\n\u001b[1;32m      1\u001b[0m aux \u001b[38;5;241m=\u001b[39m []\n\u001b[0;32m----> 2\u001b[0m \u001b[43maux\u001b[49m\u001b[43m[\u001b[49m\u001b[38;5;241;43m6\u001b[39;49m\u001b[43m]\u001b[49m \u001b[38;5;241m=\u001b[39m \u001b[38;5;241m2\u001b[39m\n\u001b[1;32m      3\u001b[0m aux\n",
      "\u001b[0;31mIndexError\u001b[0m: list assignment index out of range"
     ]
    }
   ],
   "source": []
  },
  {
   "cell_type": "code",
   "execution_count": 17,
   "metadata": {},
   "outputs": [
    {
     "name": "stdout",
     "output_type": "stream",
     "text": [
      "6\n",
      "5\n",
      "4\n"
     ]
    }
   ],
   "source": [
    "n = len(nums)\n",
    "for i in range(n-1,3,-1):\n",
    "    print(i)"
   ]
  },
  {
   "cell_type": "code",
   "execution_count": 82,
   "metadata": {},
   "outputs": [
    {
     "data": {
      "text/plain": [
       "[4800, 960, 960, 120, 60, 6, 1]"
      ]
     },
     "execution_count": 82,
     "metadata": {},
     "output_type": "execute_result"
    }
   ],
   "source": [
    "index = len(nums)\n",
    "\n",
    "\n"
   ]
  },
  {
   "cell_type": "code",
   "execution_count": 77,
   "metadata": {},
   "outputs": [
    {
     "data": {
      "text/plain": [
       "[4, 5, 1, 8, 2, 10, 6]"
      ]
     },
     "execution_count": 77,
     "metadata": {},
     "output_type": "execute_result"
    }
   ],
   "source": [
    "nums"
   ]
  },
  {
   "cell_type": "code",
   "execution_count": 81,
   "metadata": {},
   "outputs": [
    {
     "data": {
      "text/plain": [
       "19200"
      ]
     },
     "execution_count": 81,
     "metadata": {},
     "output_type": "execute_result"
    }
   ],
   "source": [
    "4 * 5 * 1 * 8 * 2 * 10* 6"
   ]
  }
 ],
 "metadata": {
  "kernelspec": {
   "display_name": ".venv",
   "language": "python",
   "name": "python3"
  },
  "language_info": {
   "codemirror_mode": {
    "name": "ipython",
    "version": 3
   },
   "file_extension": ".py",
   "mimetype": "text/x-python",
   "name": "python",
   "nbconvert_exporter": "python",
   "pygments_lexer": "ipython3",
   "version": "3.12.5"
  }
 },
 "nbformat": 4,
 "nbformat_minor": 2
}
