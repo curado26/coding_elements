{
 "cells": [
  {
   "cell_type": "markdown",
   "metadata": {},
   "source": [
    "# Linked List"
   ]
  },
  {
   "cell_type": "markdown",
   "metadata": {},
   "source": [
    "A linked list is a linear data structure used to store a collection of elements (known as nodes) in a sequential manner. Unlike arrays, the elements in a linked list are not stored in contiguous memory locations. Instead, each element points to the next element in the sequence, forming a chain-like structure.\n",
    "\n",
    "Each node of a list contains:\n",
    "\n",
    "    * Data: the value or information stored\n",
    "    * Link: a pointer with the \"address\" of the next node in the sequence. \n",
    "\n",
    "The **head** is the the pointer to the first node of the list. It"
   ]
  },
  {
   "cell_type": "code",
   "execution_count": 11,
   "metadata": {},
   "outputs": [],
   "source": [
    "class ListNode:\n",
    "    def __init__(self, val = 0, next = None):\n",
    "        self.val = val          # Stores the data of the node\n",
    "        self.next = next     # Points to the next node in the list\n"
   ]
  },
  {
   "cell_type": "markdown",
   "metadata": {},
   "source": [
    "Key Operations on Linked Lists:\n",
    "\n",
    "\t1.\tInsertion:\n",
    "\t    • Adding a new node in the list.\n",
    "\t2.\tDeletion:\n",
    "\t    •\tRemoving a node from the list.\n",
    "\t3.\tTraversal:\n",
    "\t    •\tVisiting each node in the list, typically starting from the head, until the end of the list is reached.\n",
    "\t4.\tSearching:\n",
    "\t    •\tFinding a node that contains a specific value.\n"
   ]
  },
  {
   "cell_type": "markdown",
   "metadata": {},
   "source": [
    "Advantages of Linked Lists:\n",
    "\n",
    "\t•\tDynamic Size: Can easily grow or shrink in size, as opposed to arrays which have a fixed size.\n",
    "\t•\tEfficient Insertions/Deletions: Can insert or delete nodes without shifting elements, which is an advantage over arrays for operations involving frequent insertions or deletions."
   ]
  },
  {
   "cell_type": "markdown",
   "metadata": {},
   "source": [
    "#### Leetcode\n",
    "You are given two non-empty linked lists representing two non-negative integers. The digits are stored in reverse order, and each of their nodes contains a single digit. Add the two numbers and return the sum as a linked list.\n",
    "\n",
    "You may assume the two numbers do not contain any leading zero, except the number 0 itself.\n",
    "\n",
    "Example: Input: l1 = [2,4,3], l2 = [5,6,4]\n",
    "Output: [7,0,8]\n",
    "Explanation: 342 + 465 = 807."
   ]
  },
  {
   "cell_type": "code",
   "execution_count": null,
   "metadata": {},
   "outputs": [],
   "source": [
    "class Solution:\n",
    "    def addTwoNumbers(self, l1: ListNode, l2: ListNode) -> ListNode:\n",
    "        dummyHead = ListNode(0)\n",
    "        current = dummyHead\n",
    "        carry = 0\n",
    "\n",
    "        while l1 != None or l2 != None or carry != 0:\n",
    "            digit1 = l1.val if l1 != None else 0\n",
    "            digit2 = l2.val if l2 != None else 0\n",
    "\n",
    "            sum = digit1 + digit2 + carry\n",
    "            digit = sum % 10\n",
    "            carry = sum // 10\n",
    "\n",
    "            newNode = ListNode(digit)\n",
    "            current.next = newNode\n",
    "            current = current.next\n",
    "\n",
    "            l1 = l1.next if l1 != None else None\n",
    "            l2 = l2.next if l2 != None else None\n",
    "\n",
    "        result = dummyHead.next\n",
    "        dummyHead.next = None\n",
    "        return result"
   ]
  },
  {
   "cell_type": "markdown",
   "metadata": {},
   "source": [
    "#### LeetCode #206\n",
    "Given the head of a singly linked list, reverse the list, and return the reversed list.\n",
    "\n"
   ]
  },
  {
   "cell_type": "code",
   "execution_count": 10,
   "metadata": {},
   "outputs": [
    {
     "ename": "AttributeError",
     "evalue": "'list' object has no attribute 'val'",
     "output_type": "error",
     "traceback": [
      "\u001b[0;31m---------------------------------------------------------------------------\u001b[0m",
      "\u001b[0;31mAttributeError\u001b[0m                            Traceback (most recent call last)",
      "Cell \u001b[0;32mIn[10], line 35\u001b[0m\n\u001b[1;32m     33\u001b[0m l1 \u001b[38;5;241m=\u001b[39m [\u001b[38;5;241m2\u001b[39m,\u001b[38;5;241m4\u001b[39m,\u001b[38;5;241m3\u001b[39m]\n\u001b[1;32m     34\u001b[0m l2 \u001b[38;5;241m=\u001b[39m [\u001b[38;5;241m5\u001b[39m,\u001b[38;5;241m6\u001b[39m,\u001b[38;5;241m4\u001b[39m]      \n\u001b[0;32m---> 35\u001b[0m \u001b[43mSolution\u001b[49m\u001b[43m(\u001b[49m\u001b[43m)\u001b[49m\u001b[38;5;241;43m.\u001b[39;49m\u001b[43maddTwoNumbers\u001b[49m\u001b[43m(\u001b[49m\u001b[43ml1\u001b[49m\u001b[43m,\u001b[49m\u001b[43m \u001b[49m\u001b[43ml2\u001b[49m\u001b[43m)\u001b[49m\n",
      "Cell \u001b[0;32mIn[10], line 8\u001b[0m, in \u001b[0;36mSolution.addTwoNumbers\u001b[0;34m(self, l1, l2)\u001b[0m\n\u001b[1;32m      5\u001b[0m carry \u001b[38;5;241m=\u001b[39m \u001b[38;5;241m0\u001b[39m\n\u001b[1;32m      7\u001b[0m \u001b[38;5;28;01mwhile\u001b[39;00m l1 \u001b[38;5;241m!=\u001b[39m \u001b[38;5;28;01mNone\u001b[39;00m \u001b[38;5;129;01mor\u001b[39;00m l2 \u001b[38;5;241m!=\u001b[39m \u001b[38;5;28;01mNone\u001b[39;00m \u001b[38;5;129;01mor\u001b[39;00m carry \u001b[38;5;241m!=\u001b[39m \u001b[38;5;241m0\u001b[39m:\n\u001b[0;32m----> 8\u001b[0m     digit1 \u001b[38;5;241m=\u001b[39m \u001b[43ml1\u001b[49m\u001b[38;5;241;43m.\u001b[39;49m\u001b[43mval\u001b[49m \u001b[38;5;28;01mif\u001b[39;00m l1 \u001b[38;5;241m!=\u001b[39m \u001b[38;5;28;01mNone\u001b[39;00m \u001b[38;5;28;01melse\u001b[39;00m \u001b[38;5;241m0\u001b[39m\n\u001b[1;32m      9\u001b[0m     digit2 \u001b[38;5;241m=\u001b[39m l2\u001b[38;5;241m.\u001b[39mval \u001b[38;5;28;01mif\u001b[39;00m l2 \u001b[38;5;241m!=\u001b[39m \u001b[38;5;28;01mNone\u001b[39;00m \u001b[38;5;28;01melse\u001b[39;00m \u001b[38;5;241m0\u001b[39m\n\u001b[1;32m     11\u001b[0m     \u001b[38;5;28msum\u001b[39m \u001b[38;5;241m=\u001b[39m digit1 \u001b[38;5;241m+\u001b[39m digit2 \u001b[38;5;241m+\u001b[39m carry\n",
      "\u001b[0;31mAttributeError\u001b[0m: 'list' object has no attribute 'val'"
     ]
    }
   ],
   "source": [
    "class Solution:\n",
    "    def addTwoNumbers(self, l1: ListNode, l2: ListNode) -> ListNode:\n",
    "        \n",
    "        # Initialization\n",
    "\n",
    "        dummyHead = ListNode(0) # placeholder\n",
    "        current = dummyHead     # pointer!\n",
    "        carry = 0\n",
    "\n",
    "        while l1 != None or l2 != None or carry != 0:\n",
    "            \n",
    "            digit1 = l1.val if l1 != None else 0\n",
    "            digit2 = l2.val if l2 != None else 0\n",
    "\n",
    "            sum = digit1 + digit2 + carry\n",
    "\n",
    "            #digit = sum % 10.  #carry = sum // 10\n",
    "            if sum < 10:\n",
    "                digit = sum\n",
    "                carry = 0\n",
    "            else:\n",
    "                digit = sum -10\n",
    "                carry = 1 \n",
    "\n",
    "\n",
    "            # During the while loop ....,  (newNode)\n",
    "            newNode = ListNode(digit) # nodes are created for each digit of the sum\n",
    "            current.next = newNode    # and added to the result linked list\n",
    "            current = current.next    # current is then moved to the newly added node\n",
    "\n",
    "            l1 = l1.next if l1 != None else None\n",
    "            l2 = l2.next if l2 != None else None\n",
    "\n",
    "\n",
    "        # dummyHead itself is just a placeholder with an initial value of 0 and no meaningful data.\n",
    "        # The first meaningful node of the new linked list is at dummyHead.next.\n",
    "        result = dummyHead.next\n",
    "    \n",
    "        return result\n",
    "\n",
    "\n"
   ]
  },
  {
   "cell_type": "code",
   "execution_count": 17,
   "metadata": {},
   "outputs": [
    {
     "name": "stdout",
     "output_type": "stream",
     "text": [
      "[7, 0, 8]\n"
     ]
    }
   ],
   "source": [
    "# Helper function to convert a list to a linked list\n",
    "def list_to_linked_list(lst):\n",
    "    dummy = ListNode()\n",
    "    current = dummy\n",
    "    for number in lst:\n",
    "        current.next = ListNode(number)\n",
    "        current = current.next\n",
    "    return dummy.next\n",
    "\n",
    "# Helper function to convert a linked list back to a list\n",
    "def linked_list_to_list(node):\n",
    "    lst = []\n",
    "    while node:\n",
    "        lst.append(node.val)\n",
    "        node = node.next\n",
    "    return lst\n",
    "\n",
    "l1 = list_to_linked_list([2,4,3])\n",
    "l2 = list_to_linked_list([5,6,4]\n",
    ")      \n",
    "\n",
    "result = Solution().addTwoNumbers(l1, l2)\n",
    "\n",
    "result_list = linked_list_to_list(result)\n",
    "\n",
    "print(result_list)"
   ]
  }
 ],
 "metadata": {
  "kernelspec": {
   "display_name": ".venv",
   "language": "python",
   "name": "python3"
  },
  "language_info": {
   "codemirror_mode": {
    "name": "ipython",
    "version": 3
   },
   "file_extension": ".py",
   "mimetype": "text/x-python",
   "name": "python",
   "nbconvert_exporter": "python",
   "pygments_lexer": "ipython3",
   "version": "3.12.5"
  }
 },
 "nbformat": 4,
 "nbformat_minor": 2
}
