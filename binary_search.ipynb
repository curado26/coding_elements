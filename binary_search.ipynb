{
 "cells": [
  {
   "cell_type": "markdown",
   "metadata": {},
   "source": [
    "# Binary Search\n",
    "\n",
    "#### Concept\n",
    "\n",
    "Binary Search is an efficient algorithm for *finding a target value within a \n",
    "sorted array or list*. \n",
    "\n",
    "It works by repeatedly dividing the search interval in half. \n",
    "\n",
    "If the target value is less than the middle element, the search continues in the\n",
    "lower half of the array; if greater, it continues in the upper half. This \n",
    "process is repeated until the target value is found or the interval is empty.\n",
    "\n"
   ]
  },
  {
   "cell_type": "markdown",
   "metadata": {},
   "source": [
    "##### Algorithm\n",
    "1.\tInitialization: Start with two pointers, one at the beginning (low) and one at the end (high) of the sorted array.\n",
    "\n",
    "2.\tFind the Middle: Calculate the middle index (mid) of the current interval:\n",
    "\n",
    "$$\\text{mid} = \\text{low} + \\frac{\\text{high} - \\text{low}}{2}$$\n",
    "\n",
    "3.\tCompare with Target:\n",
    "\t    •\tIf the middle element is equal to the target value, the search is complete.\n",
    "\t    •\tIf the middle element is greater than the target, move the high pointer to mid - 1 (search in the left half).\n",
    "\t    •\tIf the middle element is less than the target, move the low pointer to mid + 1 (search in the right half).\n",
    "\n",
    "4.\tRepeat: Continue this process until the target is found or the low pointer exceeds the high pointer (indicating the target is not in the array)."
   ]
  },
  {
   "cell_type": "markdown",
   "metadata": {},
   "source": [
    "704. Binary Search\n",
    "\n",
    "https://leetcode.com/problems/binary-search/description/\n",
    "\n",
    "Given an array of integers nums which is sorted in ascending order, and an \n",
    "integer target, write a function to search target in nums. If target exists, \n",
    "then return its index. Otherwise, return -1.\n",
    "\n",
    "You must write an algorithm with O(log n) runtime complexity.\n",
    "\n",
    "Example 1:\n",
    "\n",
    "Input: nums = [-1,0,3,5,9,12], target = 9\n",
    "Output: 4\n",
    "Explanation: 9 exists in nums and its index is 4\n",
    "Example 2:\n",
    "\n",
    "Input: nums = [-1,0,3,5,9,12], target = 2\n",
    "Output: -1\n",
    "Explanation: 2 does not exist in nums so return -1"
   ]
  },
  {
   "cell_type": "code",
   "execution_count": 6,
   "metadata": {},
   "outputs": [
    {
     "data": {
      "text/plain": [
       "-1"
      ]
     },
     "execution_count": 6,
     "metadata": {},
     "output_type": "execute_result"
    }
   ],
   "source": [
    "nums = [-1,0,3,5,9,12]\n",
    "target = 9\n",
    "\n",
    "def binary_search(nums, target ) -> int:\n",
    "\n",
    "    # 1) Initialize pointers\n",
    "    left = 0         # beginning of the array\n",
    "    right = len(nums)-1 # end of the array\n",
    "\n",
    "    # 2) Calculate middle index\n",
    "\n",
    "    while left <= right:\n",
    "\n",
    "        mid = (left + right)//2    \n",
    "\n",
    "        # 3) Checks\n",
    "\n",
    "        if nums[mid] == target:\n",
    "            return mid\n",
    "\n",
    "        elif nums[mid] > target:   # => go to the left side of the array\n",
    "            right = mid - 1\n",
    "        \n",
    "        elif nums[mid] < target:   # => go to the right side of the array\n",
    "            left = mid + 1\n",
    "\n",
    "    return -1 \n",
    "\n",
    "\n",
    "binary_search(nums, target)"
   ]
  }
 ],
 "metadata": {
  "kernelspec": {
   "display_name": ".venv",
   "language": "python",
   "name": "python3"
  },
  "language_info": {
   "codemirror_mode": {
    "name": "ipython",
    "version": 3
   },
   "file_extension": ".py",
   "mimetype": "text/x-python",
   "name": "python",
   "nbconvert_exporter": "python",
   "pygments_lexer": "ipython3",
   "version": "3.12.5"
  }
 },
 "nbformat": 4,
 "nbformat_minor": 2
}
