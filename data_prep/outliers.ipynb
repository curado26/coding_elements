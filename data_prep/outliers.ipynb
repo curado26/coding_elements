{
 "cells": [
  {
   "cell_type": "markdown",
   "metadata": {},
   "source": [
    "# Outliers \n",
    "Outliers are data points tha significantly deviate from the rest of the observations. They appear as extreme values that do not follow the general pattern of the dataset. \n",
    "\n",
    "Outliers can arise due to **measurement errors**, but they can also indicate important anomalies, such as **rare events** or **frauds**.\n",
    "\n",
    "It is critical to *identify* and *threat* outliers, since they can impact the perfromance of machine learning models, even introducing bias. \n",
    "\n",
    "\n",
    "There are two categories of outlier detection methods: Statistical Methods, like **z-score** and **IQR**, and Machine Learning Methods, like **Isolation Forests** and **DBSCAN**."
   ]
  },
  {
   "cell_type": "markdown",
   "metadata": {},
   "source": [
    "# Statistical Methods \n",
    "\n",
    "## Z-Score\n",
    "\n",
    "Measures how many **standard deviations** a data point  is away from the mean. \n",
    "The *z-score* of data point $x$ is given by\n",
    "\n",
    "$$ z =  \\frac{x-\\mu}{\\sigma}  $$\n",
    "\n",
    "\n",
    "## IQR\n",
    "\n",
    "We define a Lower Bound and Upper Bound based on IQR. Observations that fall out \n",
    "of these limits are considered outliers. More precisely:\n",
    "\n",
    "* $IQR = Q3-Q1$\n",
    "* $LB = Q1 - 1.5*IQR$\n",
    "* $UB = Q3 + 1.5*IQR$\n",
    "\n",
    "\n"
   ]
  },
  {
   "cell_type": "code",
   "execution_count": 13,
   "metadata": {},
   "outputs": [],
   "source": [
    "import numpy as np\n",
    "\n",
    "class OutlierDetection:\n",
    "    \"\"\"\n",
    "    Class for detecting outliers using Z-Score and IQR methods.\n",
    "    \"\"\"\n",
    "\n",
    "    def __init__(self):\n",
    "        self.mu = None\n",
    "        self.std = None\n",
    "        self.lower_bound = None\n",
    "        self.upper_bound = None\n",
    "\n",
    "    def fit(self, X):\n",
    "        \"\"\"\n",
    "        Compute mean, standard deviation and IQR bounds for original data points.\n",
    "        \n",
    "        Parameters:\n",
    "            X: array-like\n",
    "            Training data from which moments are computed. \n",
    "        \"\"\"\n",
    "        # Guarantee that data is a numpy array\n",
    "        X = np.array(X)\n",
    "\n",
    "        # Compute moments for Z-Score\n",
    "        self.mu = np.mean(X)\n",
    "        self.std = np.std(X)\n",
    "        \n",
    "        # Compute moments for IQR\n",
    "        Q1 = np.percentile(X,25)\n",
    "        Q3 = np.percentile(X,75)\n",
    "        \n",
    "        self.lower_bound = Q1 - 1.5 * (Q3-Q1)\n",
    "        self.upper_bound = Q3 + 1.5 * (Q3-Q1)\n",
    "\n",
    "    def z_score_outliers (self, X, threshold =3):\n",
    "        \"\"\"\n",
    "        Compute Z-statistic and classify outliers for training or new data.\n",
    "\n",
    "        Parameters:\n",
    "            X: array-like\n",
    "                Data to be evaluated\n",
    "            threshold:  float, optional (default=3)\n",
    "                How many standard deviations away from the mean an \n",
    "            observation must be to be considered an outlier.\n",
    "\n",
    "        Returns:\n",
    "            Z: numpy-array\n",
    "                The Z-Score for each data point.\n",
    "            outliers: numpy-array\n",
    "                Array attributing value 1 to outliers an 0 otherwise.\n",
    "        \"\"\"\n",
    "        # Guarantee that data is a numpy array\n",
    "        X = np.array(X)\n",
    "\n",
    "        # It is a good practice to check if fit() has been called before using \n",
    "        # z_score_outliers()\n",
    "        if self.mu == None or self.std == None:\n",
    "            raise ValueError(\"Model must be fitted before detecting outliers\")\n",
    "\n",
    "        if self.std ==0:\n",
    "            raise ValueError(\"Data without variability. Cant compute Z-statistic\")\n",
    "        \n",
    "        Z = (X - self.mu)/self.std\n",
    "\n",
    "        outliers = np.where(abs(Z)>threshold, 1, 0 )\n",
    "\n",
    "        return Z, outliers\n",
    "\n",
    "\n",
    "    def IQR_outliers(self, X):\n",
    "\n",
    "        \"\"\"\n",
    "        Detect Outliers based on Interquartile (IQR) method \n",
    "    \n",
    "        Parameters:\n",
    "            X: array-like\n",
    "                Data to be evaluated\n",
    "        Returns:\n",
    "            outliers: numpy-array\n",
    "                Array attributing value 1 to outliers an 0 otherwise.\n",
    "        \"\"\"\n",
    "        if self.lower_bound == None or self.upper_bound == None:\n",
    "            raise ValueError(\"Model must be fit before detecting outliers\")\n",
    "\n",
    "        X=np.array(X)\n",
    "        outliers = np.where(\n",
    "            (X < self.lower_bound) | (X > self.upper_bound), 1,0 )\n",
    "        return outliers \n"
   ]
  },
  {
   "cell_type": "code",
   "execution_count": 14,
   "metadata": {},
   "outputs": [
    {
     "name": "stdout",
     "output_type": "stream",
     "text": [
      "Outliers using Z-Score Method: (array([-0.44622309, -0.38672668, -0.32723026, -0.29748206, -0.32723026,\n",
      "       -0.35697847,  2.82607956, -0.32723026, -0.35697847]), array([0, 0, 0, 0, 0, 0, 1, 0, 0])).\n",
      "Outliers using IQR Method: [1 0 0 0 0 0 1 0 0].\n"
     ]
    }
   ],
   "source": [
    "data = [10, 12, 14, 15, 14, 13, 120, 14, 13]\n",
    "outlier_detector = OutlierDetection()\n",
    "outlier_detector.fit(data)\n",
    "z_score_outliers = outlier_detector.z_score_outliers(data, threshold =2)\n",
    "iqr_method_outliers = outlier_detector.IQR_outliers(data) \n",
    "\n",
    "print(f\"Outliers using Z-Score Method: {z_score_outliers}.\")\n",
    "print(f\"Outliers using IQR Method: {iqr_method_outliers}.\")"
   ]
  },
  {
   "cell_type": "markdown",
   "metadata": {},
   "source": [
    "# Isolation Forest\n",
    "Model-based outlier detection that relies on decision trees"
   ]
  },
  {
   "cell_type": "markdown",
   "metadata": {},
   "source": [
    "# Outliers Threatment\n",
    "\n",
    "Simply replacing outliers without thinking about why they have occurred is a \n",
    "dangerous practice. They may provide useful information about the process that\n",
    "produced the data, which should be taken into account when forecasting. \n",
    "\n",
    "However, dealing with outliers is essential, since they can introduce bias in \n",
    "parameter estimatios, leading to innacurate predictions."
   ]
  },
  {
   "cell_type": "markdown",
   "metadata": {},
   "source": []
  }
 ],
 "metadata": {
  "kernelspec": {
   "display_name": ".venv",
   "language": "python",
   "name": "python3"
  },
  "language_info": {
   "codemirror_mode": {
    "name": "ipython",
    "version": 3
   },
   "file_extension": ".py",
   "mimetype": "text/x-python",
   "name": "python",
   "nbconvert_exporter": "python",
   "pygments_lexer": "ipython3",
   "version": "3.12.5"
  }
 },
 "nbformat": 4,
 "nbformat_minor": 2
}
